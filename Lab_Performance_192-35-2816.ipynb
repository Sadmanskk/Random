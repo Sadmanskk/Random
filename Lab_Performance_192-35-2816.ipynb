{
 "cells": [
  {
   "cell_type": "markdown",
   "metadata": {
    "id": "rOkb4jLVxvsx"
   },
   "source": [
    "# Lab Performance - DS 422\n",
    "\n",
    "Sadman Hosen \n",
    "\n",
    "ID: 192-35-2816\n",
    "\n",
    "\n"
   ]
  },
  {
   "cell_type": "markdown",
   "metadata": {
    "id": "FwEQFMnH0L09"
   },
   "source": [
    "# Problem 1\n",
    "\n"
   ]
  },
  {
   "cell_type": "code",
   "execution_count": 2,
   "metadata": {
    "id": "JWjqNipkzCaw"
   },
   "outputs": [],
   "source": [
    "#import libraries\n",
    "import numpy as np\n",
    "import pandas as pd\n",
    "import seaborn as sns\n",
    "import warnings\n",
    "warnings.filterwarnings('ignore')\n",
    "import matplotlib.pyplot as plt\n",
    "%matplotlib inline "
   ]
  },
  {
   "cell_type": "code",
   "execution_count": 3,
   "metadata": {
    "colab": {
     "base_uri": "https://localhost:8080/",
     "height": 424
    },
    "id": "o8LULTmxz_g7",
    "outputId": "0d824610-5de9-4b2d-c992-ccec07a2cdb2"
   },
   "outputs": [
    {
     "data": {
      "text/html": [
       "<div>\n",
       "<style scoped>\n",
       "    .dataframe tbody tr th:only-of-type {\n",
       "        vertical-align: middle;\n",
       "    }\n",
       "\n",
       "    .dataframe tbody tr th {\n",
       "        vertical-align: top;\n",
       "    }\n",
       "\n",
       "    .dataframe thead th {\n",
       "        text-align: right;\n",
       "    }\n",
       "</style>\n",
       "<table border=\"1\" class=\"dataframe\">\n",
       "  <thead>\n",
       "    <tr style=\"text-align: right;\">\n",
       "      <th></th>\n",
       "      <th>work_year</th>\n",
       "      <th>experience_level</th>\n",
       "      <th>employment_type</th>\n",
       "      <th>job_title</th>\n",
       "      <th>salary</th>\n",
       "      <th>salary_currency</th>\n",
       "      <th>salary_in_usd</th>\n",
       "      <th>employee_residence</th>\n",
       "      <th>remote_ratio</th>\n",
       "      <th>company_location</th>\n",
       "      <th>company_size</th>\n",
       "    </tr>\n",
       "  </thead>\n",
       "  <tbody>\n",
       "    <tr>\n",
       "      <th>0</th>\n",
       "      <td>2021e</td>\n",
       "      <td>EN</td>\n",
       "      <td>FT</td>\n",
       "      <td>Data Science Consultant</td>\n",
       "      <td>54000</td>\n",
       "      <td>EUR</td>\n",
       "      <td>64369</td>\n",
       "      <td>DE</td>\n",
       "      <td>50</td>\n",
       "      <td>DE</td>\n",
       "      <td>L</td>\n",
       "    </tr>\n",
       "    <tr>\n",
       "      <th>1</th>\n",
       "      <td>2020</td>\n",
       "      <td>SE</td>\n",
       "      <td>FT</td>\n",
       "      <td>Data Scientist</td>\n",
       "      <td>60000</td>\n",
       "      <td>EUR</td>\n",
       "      <td>68428</td>\n",
       "      <td>GR</td>\n",
       "      <td>100</td>\n",
       "      <td>US</td>\n",
       "      <td>L</td>\n",
       "    </tr>\n",
       "    <tr>\n",
       "      <th>2</th>\n",
       "      <td>2021e</td>\n",
       "      <td>EX</td>\n",
       "      <td>FT</td>\n",
       "      <td>Head of Data Science</td>\n",
       "      <td>85000</td>\n",
       "      <td>USD</td>\n",
       "      <td>85000</td>\n",
       "      <td>RU</td>\n",
       "      <td>0</td>\n",
       "      <td>RU</td>\n",
       "      <td>M</td>\n",
       "    </tr>\n",
       "    <tr>\n",
       "      <th>3</th>\n",
       "      <td>2021e</td>\n",
       "      <td>EX</td>\n",
       "      <td>FT</td>\n",
       "      <td>Head of Data</td>\n",
       "      <td>230000</td>\n",
       "      <td>USD</td>\n",
       "      <td>230000</td>\n",
       "      <td>RU</td>\n",
       "      <td>50</td>\n",
       "      <td>RU</td>\n",
       "      <td>L</td>\n",
       "    </tr>\n",
       "    <tr>\n",
       "      <th>4</th>\n",
       "      <td>2021e</td>\n",
       "      <td>EN</td>\n",
       "      <td>FT</td>\n",
       "      <td>Machine Learning Engineer</td>\n",
       "      <td>125000</td>\n",
       "      <td>USD</td>\n",
       "      <td>125000</td>\n",
       "      <td>US</td>\n",
       "      <td>100</td>\n",
       "      <td>US</td>\n",
       "      <td>S</td>\n",
       "    </tr>\n",
       "    <tr>\n",
       "      <th>...</th>\n",
       "      <td>...</td>\n",
       "      <td>...</td>\n",
       "      <td>...</td>\n",
       "      <td>...</td>\n",
       "      <td>...</td>\n",
       "      <td>...</td>\n",
       "      <td>...</td>\n",
       "      <td>...</td>\n",
       "      <td>...</td>\n",
       "      <td>...</td>\n",
       "      <td>...</td>\n",
       "    </tr>\n",
       "    <tr>\n",
       "      <th>240</th>\n",
       "      <td>2020</td>\n",
       "      <td>SE</td>\n",
       "      <td>FT</td>\n",
       "      <td>Data Scientist</td>\n",
       "      <td>412000</td>\n",
       "      <td>USD</td>\n",
       "      <td>412000</td>\n",
       "      <td>US</td>\n",
       "      <td>100</td>\n",
       "      <td>US</td>\n",
       "      <td>L</td>\n",
       "    </tr>\n",
       "    <tr>\n",
       "      <th>241</th>\n",
       "      <td>2021e</td>\n",
       "      <td>MI</td>\n",
       "      <td>FT</td>\n",
       "      <td>Principal Data Scientist</td>\n",
       "      <td>151000</td>\n",
       "      <td>USD</td>\n",
       "      <td>151000</td>\n",
       "      <td>US</td>\n",
       "      <td>100</td>\n",
       "      <td>US</td>\n",
       "      <td>L</td>\n",
       "    </tr>\n",
       "    <tr>\n",
       "      <th>242</th>\n",
       "      <td>2020</td>\n",
       "      <td>EN</td>\n",
       "      <td>FT</td>\n",
       "      <td>Data Scientist</td>\n",
       "      <td>105000</td>\n",
       "      <td>USD</td>\n",
       "      <td>105000</td>\n",
       "      <td>US</td>\n",
       "      <td>100</td>\n",
       "      <td>US</td>\n",
       "      <td>S</td>\n",
       "    </tr>\n",
       "    <tr>\n",
       "      <th>243</th>\n",
       "      <td>2020</td>\n",
       "      <td>EN</td>\n",
       "      <td>CT</td>\n",
       "      <td>Business Data Analyst</td>\n",
       "      <td>100000</td>\n",
       "      <td>USD</td>\n",
       "      <td>100000</td>\n",
       "      <td>US</td>\n",
       "      <td>100</td>\n",
       "      <td>US</td>\n",
       "      <td>L</td>\n",
       "    </tr>\n",
       "    <tr>\n",
       "      <th>244</th>\n",
       "      <td>2021e</td>\n",
       "      <td>SE</td>\n",
       "      <td>FT</td>\n",
       "      <td>Data Science Manager</td>\n",
       "      <td>7000000</td>\n",
       "      <td>INR</td>\n",
       "      <td>94917</td>\n",
       "      <td>IN</td>\n",
       "      <td>50</td>\n",
       "      <td>IN</td>\n",
       "      <td>L</td>\n",
       "    </tr>\n",
       "  </tbody>\n",
       "</table>\n",
       "<p>245 rows × 11 columns</p>\n",
       "</div>"
      ],
      "text/plain": [
       "    work_year experience_level employment_type                  job_title  \\\n",
       "0       2021e               EN              FT    Data Science Consultant   \n",
       "1        2020               SE              FT             Data Scientist   \n",
       "2       2021e               EX              FT       Head of Data Science   \n",
       "3       2021e               EX              FT               Head of Data   \n",
       "4       2021e               EN              FT  Machine Learning Engineer   \n",
       "..        ...              ...             ...                        ...   \n",
       "240      2020               SE              FT             Data Scientist   \n",
       "241     2021e               MI              FT   Principal Data Scientist   \n",
       "242      2020               EN              FT             Data Scientist   \n",
       "243      2020               EN              CT      Business Data Analyst   \n",
       "244     2021e               SE              FT       Data Science Manager   \n",
       "\n",
       "      salary salary_currency  salary_in_usd employee_residence  remote_ratio  \\\n",
       "0      54000             EUR          64369                 DE            50   \n",
       "1      60000             EUR          68428                 GR           100   \n",
       "2      85000             USD          85000                 RU             0   \n",
       "3     230000             USD         230000                 RU            50   \n",
       "4     125000             USD         125000                 US           100   \n",
       "..       ...             ...            ...                ...           ...   \n",
       "240   412000             USD         412000                 US           100   \n",
       "241   151000             USD         151000                 US           100   \n",
       "242   105000             USD         105000                 US           100   \n",
       "243   100000             USD         100000                 US           100   \n",
       "244  7000000             INR          94917                 IN            50   \n",
       "\n",
       "    company_location company_size  \n",
       "0                 DE            L  \n",
       "1                 US            L  \n",
       "2                 RU            M  \n",
       "3                 RU            L  \n",
       "4                 US            S  \n",
       "..               ...          ...  \n",
       "240               US            L  \n",
       "241               US            L  \n",
       "242               US            S  \n",
       "243               US            L  \n",
       "244               IN            L  \n",
       "\n",
       "[245 rows x 11 columns]"
      ]
     },
     "execution_count": 3,
     "metadata": {},
     "output_type": "execute_result"
    }
   ],
   "source": [
    "#load dataset\n",
    "data = pd.read_csv('Data Science Jobs Salaries.csv')\n",
    "data"
   ]
  },
  {
   "cell_type": "code",
   "execution_count": 4,
   "metadata": {
    "colab": {
     "base_uri": "https://localhost:8080/"
    },
    "id": "UAYXCdxDhDUX",
    "outputId": "6d7eb837-cdc5-4496-afd0-865d8e85205c"
   },
   "outputs": [
    {
     "data": {
      "text/plain": [
       "Index(['work_year', 'experience_level', 'employment_type', 'job_title',\n",
       "       'salary', 'salary_currency', 'salary_in_usd', 'employee_residence',\n",
       "       'remote_ratio', 'company_location', 'company_size'],\n",
       "      dtype='object')"
      ]
     },
     "execution_count": 4,
     "metadata": {},
     "output_type": "execute_result"
    }
   ],
   "source": [
    "data.columns"
   ]
  },
  {
   "cell_type": "code",
   "execution_count": 6,
   "metadata": {
    "colab": {
     "base_uri": "https://localhost:8080/"
    },
    "id": "eWjMsOsx0vvX",
    "outputId": "e426df3d-cfda-422d-bd7e-a2c375763200"
   },
   "outputs": [
    {
     "data": {
      "text/plain": [
       "(245, 11)"
      ]
     },
     "execution_count": 6,
     "metadata": {},
     "output_type": "execute_result"
    }
   ],
   "source": [
    "#shape\n",
    "data.shape"
   ]
  },
  {
   "cell_type": "code",
   "execution_count": 7,
   "metadata": {
    "colab": {
     "base_uri": "https://localhost:8080/"
    },
    "id": "DXq3-ecbPw4K",
    "outputId": "7651797f-da6d-4f3e-b4d4-d525c48d4f8d"
   },
   "outputs": [
    {
     "data": {
      "text/plain": [
       "US    108\n",
       "DE     19\n",
       "IN     17\n",
       "GB     16\n",
       "FR     11\n",
       "CA     11\n",
       "ES      7\n",
       "JP      4\n",
       "AT      3\n",
       "NL      3\n",
       "PL      3\n",
       "DK      3\n",
       "TR      3\n",
       "BR      2\n",
       "GR      2\n",
       "PK      2\n",
       "LU      2\n",
       "CN      2\n",
       "NG      2\n",
       "RU      2\n",
       "PT      2\n",
       "MX      2\n",
       "UA      1\n",
       "IL      1\n",
       "HR      1\n",
       "AS      1\n",
       "VN      1\n",
       "MD      1\n",
       "IT      1\n",
       "CH      1\n",
       "AE      1\n",
       "SI      1\n",
       "BE      1\n",
       "CL      1\n",
       "IR      1\n",
       "NZ      1\n",
       "CO      1\n",
       "KE      1\n",
       "HU      1\n",
       "SG      1\n",
       "MT      1\n",
       "Name: company_location, dtype: int64"
      ]
     },
     "execution_count": 7,
     "metadata": {},
     "output_type": "execute_result"
    }
   ],
   "source": [
    "data['company_location'].value_counts()"
   ]
  },
  {
   "cell_type": "code",
   "execution_count": 8,
   "metadata": {
    "colab": {
     "base_uri": "https://localhost:8080/",
     "height": 300
    },
    "id": "A3MzE_jvPZev",
    "outputId": "efe6f90a-7fdb-4d92-b7f2-78acfe6a1d51"
   },
   "outputs": [
    {
     "data": {
      "text/html": [
       "<div>\n",
       "<style scoped>\n",
       "    .dataframe tbody tr th:only-of-type {\n",
       "        vertical-align: middle;\n",
       "    }\n",
       "\n",
       "    .dataframe tbody tr th {\n",
       "        vertical-align: top;\n",
       "    }\n",
       "\n",
       "    .dataframe thead th {\n",
       "        text-align: right;\n",
       "    }\n",
       "</style>\n",
       "<table border=\"1\" class=\"dataframe\">\n",
       "  <thead>\n",
       "    <tr style=\"text-align: right;\">\n",
       "      <th></th>\n",
       "      <th>salary</th>\n",
       "      <th>salary_in_usd</th>\n",
       "      <th>remote_ratio</th>\n",
       "    </tr>\n",
       "  </thead>\n",
       "  <tbody>\n",
       "    <tr>\n",
       "      <th>count</th>\n",
       "      <td>2.450000e+02</td>\n",
       "      <td>245.000000</td>\n",
       "      <td>245.000000</td>\n",
       "    </tr>\n",
       "    <tr>\n",
       "      <th>mean</th>\n",
       "      <td>5.025418e+05</td>\n",
       "      <td>99868.012245</td>\n",
       "      <td>69.183673</td>\n",
       "    </tr>\n",
       "    <tr>\n",
       "      <th>std</th>\n",
       "      <td>2.276230e+06</td>\n",
       "      <td>83983.326949</td>\n",
       "      <td>37.593421</td>\n",
       "    </tr>\n",
       "    <tr>\n",
       "      <th>min</th>\n",
       "      <td>4.000000e+03</td>\n",
       "      <td>2876.000000</td>\n",
       "      <td>0.000000</td>\n",
       "    </tr>\n",
       "    <tr>\n",
       "      <th>25%</th>\n",
       "      <td>6.000000e+04</td>\n",
       "      <td>45896.000000</td>\n",
       "      <td>50.000000</td>\n",
       "    </tr>\n",
       "    <tr>\n",
       "      <th>50%</th>\n",
       "      <td>1.030000e+05</td>\n",
       "      <td>81000.000000</td>\n",
       "      <td>100.000000</td>\n",
       "    </tr>\n",
       "    <tr>\n",
       "      <th>75%</th>\n",
       "      <td>1.740000e+05</td>\n",
       "      <td>130000.000000</td>\n",
       "      <td>100.000000</td>\n",
       "    </tr>\n",
       "    <tr>\n",
       "      <th>max</th>\n",
       "      <td>3.040000e+07</td>\n",
       "      <td>600000.000000</td>\n",
       "      <td>100.000000</td>\n",
       "    </tr>\n",
       "  </tbody>\n",
       "</table>\n",
       "</div>"
      ],
      "text/plain": [
       "             salary  salary_in_usd  remote_ratio\n",
       "count  2.450000e+02     245.000000    245.000000\n",
       "mean   5.025418e+05   99868.012245     69.183673\n",
       "std    2.276230e+06   83983.326949     37.593421\n",
       "min    4.000000e+03    2876.000000      0.000000\n",
       "25%    6.000000e+04   45896.000000     50.000000\n",
       "50%    1.030000e+05   81000.000000    100.000000\n",
       "75%    1.740000e+05  130000.000000    100.000000\n",
       "max    3.040000e+07  600000.000000    100.000000"
      ]
     },
     "execution_count": 8,
     "metadata": {},
     "output_type": "execute_result"
    }
   ],
   "source": [
    "data.describe()"
   ]
  },
  {
   "cell_type": "code",
   "execution_count": 9,
   "metadata": {
    "colab": {
     "base_uri": "https://localhost:8080/"
    },
    "id": "tRJziols2Sd6",
    "outputId": "5a534c8f-41e1-48c9-bf83-ab7afe58265f"
   },
   "outputs": [
    {
     "name": "stdout",
     "output_type": "stream",
     "text": [
      "<class 'pandas.core.frame.DataFrame'>\n",
      "RangeIndex: 245 entries, 0 to 244\n",
      "Data columns (total 11 columns):\n",
      " #   Column              Non-Null Count  Dtype \n",
      "---  ------              --------------  ----- \n",
      " 0   work_year           245 non-null    object\n",
      " 1   experience_level    245 non-null    object\n",
      " 2   employment_type     245 non-null    object\n",
      " 3   job_title           245 non-null    object\n",
      " 4   salary              245 non-null    int64 \n",
      " 5   salary_currency     245 non-null    object\n",
      " 6   salary_in_usd       245 non-null    int64 \n",
      " 7   employee_residence  245 non-null    object\n",
      " 8   remote_ratio        245 non-null    int64 \n",
      " 9   company_location    245 non-null    object\n",
      " 10  company_size        245 non-null    object\n",
      "dtypes: int64(3), object(8)\n",
      "memory usage: 21.2+ KB\n"
     ]
    }
   ],
   "source": [
    "#info\n",
    "data.info()"
   ]
  },
  {
   "cell_type": "markdown",
   "metadata": {
    "id": "Ha-j91U7kvCu"
   },
   "source": [
    "# Problem 2\n",
    "\n"
   ]
  },
  {
   "cell_type": "code",
   "execution_count": 10,
   "metadata": {
    "colab": {
     "base_uri": "https://localhost:8080/"
    },
    "id": "RR2yxqU2gokP",
    "outputId": "8049ad35-9892-4804-b659-11bd66779e5a"
   },
   "outputs": [
    {
     "data": {
      "text/plain": [
       "work_year             0\n",
       "experience_level      0\n",
       "employment_type       0\n",
       "job_title             0\n",
       "salary                0\n",
       "salary_currency       0\n",
       "salary_in_usd         0\n",
       "employee_residence    0\n",
       "remote_ratio          0\n",
       "company_location      0\n",
       "company_size          0\n",
       "dtype: int64"
      ]
     },
     "execution_count": 10,
     "metadata": {},
     "output_type": "execute_result"
    }
   ],
   "source": [
    "#checking null values\n",
    "data.isna().sum(axis=0)"
   ]
  },
  {
   "cell_type": "code",
   "execution_count": 11,
   "metadata": {
    "colab": {
     "base_uri": "https://localhost:8080/"
    },
    "id": "Tv19FDSEnH1l",
    "outputId": "047fde0e-39fa-42ec-c46b-fe92a2d8dddc"
   },
   "outputs": [
    {
     "data": {
      "text/plain": [
       "FT    231\n",
       "PT      7\n",
       "CT      4\n",
       "FL      3\n",
       "Name: employment_type, dtype: int64"
      ]
     },
     "execution_count": 11,
     "metadata": {},
     "output_type": "execute_result"
    }
   ],
   "source": [
    "data['employment_type'].value_counts()"
   ]
  },
  {
   "cell_type": "markdown",
   "metadata": {
    "id": "k5c0X2LiqVwV"
   },
   "source": [
    "# Problem 3"
   ]
  },
  {
   "cell_type": "code",
   "execution_count": 13,
   "metadata": {
    "colab": {
     "base_uri": "https://localhost:8080/",
     "height": 472
    },
    "id": "s4h06eqqTIlg",
    "outputId": "a025af46-5b78-4cb9-c1d8-a4c577fbde08"
   },
   "outputs": [
    {
     "data": {
      "image/png": "[encoded data removed]",
      "text/plain": [
       "<Figure size 640x480 with 1 Axes>"
      ]
     },
     "metadata": {},
     "output_type": "display_data"
    }
   ],
   "source": [
    "sns.countplot(x = 'salary',\n",
    "              data=data,\n",
    "              hue='company_size')\n",
    "plt.title('Salary accordig to Company Size')\n",
    "plt.xlabel('Salary Range')\n",
    "plt.ylabel('Number of Records')\n",
    "plt.show()"
   ]
  },
  {
   "cell_type": "code",
   "execution_count": 14,
   "metadata": {
    "colab": {
     "base_uri": "https://localhost:8080/",
     "height": 466
    },
    "id": "guabUN3A3EP9",
    "outputId": "2f88be4e-df8d-43ce-ed00-1674aca04d46"
   },
   "outputs": [
    {
     "data": {
      "text/plain": [
       "<AxesSubplot:xlabel='salary', ylabel='Count'>"
      ]
     },
     "execution_count": 14,
     "metadata": {},
     "output_type": "execute_result"
    },
    {
     "data": {
      "image/png": "[encoded data removed]",
      "text/plain": [
       "<Figure size 640x480 with 1 Axes>"
      ]
     },
     "metadata": {},
     "output_type": "display_data"
    }
   ],
   "source": [
    "sns.histplot(data=data,x='salary', bins=10)"
   ]
  },
  {
   "cell_type": "code",
   "execution_count": 16,
   "metadata": {
    "colab": {
     "base_uri": "https://localhost:8080/",
     "height": 466
    },
    "id": "GQS3pzvj4nmC",
    "outputId": "febad199-76a4-4a3f-8223-a6200b410772"
   },
   "outputs": [
    {
     "data": {
      "text/plain": [
       "<AxesSubplot:xlabel='remote_ratio', ylabel='Density'>"
      ]
     },
     "execution_count": 16,
     "metadata": {},
     "output_type": "execute_result"
    },
    {
     "data": {
      "image/png": "[encoded data removed]",
      "text/plain": [
       "<Figure size 640x480 with 1 Axes>"
      ]
     },
     "metadata": {},
     "output_type": "display_data"
    }
   ],
   "source": [
    "sns.kdeplot(data['remote_ratio'],shade=True)"
   ]
  },
  {
   "cell_type": "code",
   "execution_count": 17,
   "metadata": {
    "colab": {
     "base_uri": "https://localhost:8080/",
     "height": 506
    },
    "id": "I3VkuJ7BR3tD",
    "outputId": "ea6c60f3-38d1-4d4c-b763-60357ac28463"
   },
   "outputs": [
    {
     "data": {
      "image/png": "[encoded data removed]",
      "text/plain": [
       "<Figure size 500x500 with 1 Axes>"
      ]
     },
     "metadata": {},
     "output_type": "display_data"
    }
   ],
   "source": [
    "sns.displot(x = 'salary', data=data, bins=20)\n",
    "plt.show()"
   ]
  },
  {
   "cell_type": "markdown",
   "metadata": {
    "id": "bOyh9aoWukHj"
   },
   "source": [
    "# Problem 4\n"
   ]
  },
  {
   "cell_type": "code",
   "execution_count": 19,
   "metadata": {},
   "outputs": [
    {
     "data": {
      "text/plain": [
       "FT    231\n",
       "PT      7\n",
       "CT      4\n",
       "FL      3\n",
       "Name: employment_type, dtype: int64"
      ]
     },
     "execution_count": 19,
     "metadata": {},
     "output_type": "execute_result"
    }
   ],
   "source": [
    "data['experience_level'].value_counts()\n",
    "data['employment_type'].value_counts()"
   ]
  },
  {
   "cell_type": "code",
   "execution_count": 20,
   "metadata": {
    "colab": {
     "base_uri": "https://localhost:8080/",
     "height": 363
    },
    "id": "5_0B3j2LuxFr",
    "outputId": "115c7f8c-f8d0-4281-ad88-6d931d8aba13"
   },
   "outputs": [
    {
     "data": {
      "text/html": [
       "<div>\n",
       "<style scoped>\n",
       "    .dataframe tbody tr th:only-of-type {\n",
       "        vertical-align: middle;\n",
       "    }\n",
       "\n",
       "    .dataframe tbody tr th {\n",
       "        vertical-align: top;\n",
       "    }\n",
       "\n",
       "    .dataframe thead th {\n",
       "        text-align: right;\n",
       "    }\n",
       "</style>\n",
       "<table border=\"1\" class=\"dataframe\">\n",
       "  <thead>\n",
       "    <tr style=\"text-align: right;\">\n",
       "      <th></th>\n",
       "      <th>work_year</th>\n",
       "      <th>experience_level</th>\n",
       "      <th>employment_type</th>\n",
       "      <th>job_title</th>\n",
       "      <th>salary</th>\n",
       "      <th>salary_currency</th>\n",
       "      <th>salary_in_usd</th>\n",
       "      <th>employee_residence</th>\n",
       "      <th>remote_ratio</th>\n",
       "      <th>company_location</th>\n",
       "      <th>company_size</th>\n",
       "    </tr>\n",
       "  </thead>\n",
       "  <tbody>\n",
       "    <tr>\n",
       "      <th>118</th>\n",
       "      <td>2021e</td>\n",
       "      <td>2</td>\n",
       "      <td>0</td>\n",
       "      <td>Data Engineer</td>\n",
       "      <td>55000</td>\n",
       "      <td>EUR</td>\n",
       "      <td>65561</td>\n",
       "      <td>DE</td>\n",
       "      <td>50</td>\n",
       "      <td>DE</td>\n",
       "      <td>M</td>\n",
       "    </tr>\n",
       "    <tr>\n",
       "      <th>55</th>\n",
       "      <td>2021e</td>\n",
       "      <td>0</td>\n",
       "      <td>0</td>\n",
       "      <td>Data Analyst</td>\n",
       "      <td>37456</td>\n",
       "      <td>GBP</td>\n",
       "      <td>51814</td>\n",
       "      <td>GB</td>\n",
       "      <td>50</td>\n",
       "      <td>GB</td>\n",
       "      <td>L</td>\n",
       "    </tr>\n",
       "    <tr>\n",
       "      <th>190</th>\n",
       "      <td>2021e</td>\n",
       "      <td>0</td>\n",
       "      <td>0</td>\n",
       "      <td>Data Science Engineer</td>\n",
       "      <td>34000</td>\n",
       "      <td>EUR</td>\n",
       "      <td>40529</td>\n",
       "      <td>GR</td>\n",
       "      <td>100</td>\n",
       "      <td>GR</td>\n",
       "      <td>M</td>\n",
       "    </tr>\n",
       "    <tr>\n",
       "      <th>154</th>\n",
       "      <td>2021e</td>\n",
       "      <td>2</td>\n",
       "      <td>0</td>\n",
       "      <td>Machine Learning Engineer</td>\n",
       "      <td>81000</td>\n",
       "      <td>USD</td>\n",
       "      <td>81000</td>\n",
       "      <td>US</td>\n",
       "      <td>50</td>\n",
       "      <td>US</td>\n",
       "      <td>S</td>\n",
       "    </tr>\n",
       "    <tr>\n",
       "      <th>230</th>\n",
       "      <td>2020</td>\n",
       "      <td>1</td>\n",
       "      <td>0</td>\n",
       "      <td>Data Science Manager</td>\n",
       "      <td>190200</td>\n",
       "      <td>USD</td>\n",
       "      <td>190200</td>\n",
       "      <td>US</td>\n",
       "      <td>100</td>\n",
       "      <td>US</td>\n",
       "      <td>M</td>\n",
       "    </tr>\n",
       "    <tr>\n",
       "      <th>188</th>\n",
       "      <td>2021e</td>\n",
       "      <td>0</td>\n",
       "      <td>0</td>\n",
       "      <td>Data Scientist</td>\n",
       "      <td>160000</td>\n",
       "      <td>USD</td>\n",
       "      <td>160000</td>\n",
       "      <td>US</td>\n",
       "      <td>100</td>\n",
       "      <td>US</td>\n",
       "      <td>L</td>\n",
       "    </tr>\n",
       "    <tr>\n",
       "      <th>35</th>\n",
       "      <td>2021e</td>\n",
       "      <td>1</td>\n",
       "      <td>0</td>\n",
       "      <td>Data Analytics Engineer</td>\n",
       "      <td>67000</td>\n",
       "      <td>EUR</td>\n",
       "      <td>79866</td>\n",
       "      <td>DE</td>\n",
       "      <td>100</td>\n",
       "      <td>DE</td>\n",
       "      <td>L</td>\n",
       "    </tr>\n",
       "    <tr>\n",
       "      <th>215</th>\n",
       "      <td>2020</td>\n",
       "      <td>1</td>\n",
       "      <td>0</td>\n",
       "      <td>Principal Data Scientist</td>\n",
       "      <td>130000</td>\n",
       "      <td>EUR</td>\n",
       "      <td>148261</td>\n",
       "      <td>DE</td>\n",
       "      <td>100</td>\n",
       "      <td>DE</td>\n",
       "      <td>M</td>\n",
       "    </tr>\n",
       "    <tr>\n",
       "      <th>86</th>\n",
       "      <td>2021e</td>\n",
       "      <td>1</td>\n",
       "      <td>0</td>\n",
       "      <td>Big Data Architect</td>\n",
       "      <td>125000</td>\n",
       "      <td>CAD</td>\n",
       "      <td>99956</td>\n",
       "      <td>CA</td>\n",
       "      <td>50</td>\n",
       "      <td>CA</td>\n",
       "      <td>M</td>\n",
       "    </tr>\n",
       "    <tr>\n",
       "      <th>49</th>\n",
       "      <td>2021e</td>\n",
       "      <td>1</td>\n",
       "      <td>0</td>\n",
       "      <td>Director of Data Engineering</td>\n",
       "      <td>82500</td>\n",
       "      <td>GBP</td>\n",
       "      <td>114125</td>\n",
       "      <td>GB</td>\n",
       "      <td>100</td>\n",
       "      <td>GB</td>\n",
       "      <td>M</td>\n",
       "    </tr>\n",
       "  </tbody>\n",
       "</table>\n",
       "</div>"
      ],
      "text/plain": [
       "    work_year  experience_level  employment_type  \\\n",
       "118     2021e                 2                0   \n",
       "55      2021e                 0                0   \n",
       "190     2021e                 0                0   \n",
       "154     2021e                 2                0   \n",
       "230      2020                 1                0   \n",
       "188     2021e                 0                0   \n",
       "35      2021e                 1                0   \n",
       "215      2020                 1                0   \n",
       "86      2021e                 1                0   \n",
       "49      2021e                 1                0   \n",
       "\n",
       "                        job_title  salary salary_currency  salary_in_usd  \\\n",
       "118                 Data Engineer   55000             EUR          65561   \n",
       "55                   Data Analyst   37456             GBP          51814   \n",
       "190         Data Science Engineer   34000             EUR          40529   \n",
       "154     Machine Learning Engineer   81000             USD          81000   \n",
       "230          Data Science Manager  190200             USD         190200   \n",
       "188                Data Scientist  160000             USD         160000   \n",
       "35        Data Analytics Engineer   67000             EUR          79866   \n",
       "215      Principal Data Scientist  130000             EUR         148261   \n",
       "86             Big Data Architect  125000             CAD          99956   \n",
       "49   Director of Data Engineering   82500             GBP         114125   \n",
       "\n",
       "    employee_residence  remote_ratio company_location company_size  \n",
       "118                 DE            50               DE            M  \n",
       "55                  GB            50               GB            L  \n",
       "190                 GR           100               GR            M  \n",
       "154                 US            50               US            S  \n",
       "230                 US           100               US            M  \n",
       "188                 US           100               US            L  \n",
       "35                  DE           100               DE            L  \n",
       "215                 DE           100               DE            M  \n",
       "86                  CA            50               CA            M  \n",
       "49                  GB           100               GB            M  "
      ]
     },
     "execution_count": 20,
     "metadata": {},
     "output_type": "execute_result"
    }
   ],
   "source": [
    "\n",
    "data['experience_level'] = data['experience_level'].replace({'MI': 0,'SE':1, 'EN':2,'EX':3})\n",
    "data['employment_type'] = data['employment_type'].replace({\"FT\" : 0,\n",
    "                                                           \"PT\" : 1,\n",
    "                                                           \"CT\": 2,\n",
    "                                                           \"FL\" : 3})\n",
    "data.sample(10)"
   ]
  },
  {
   "cell_type": "code",
   "execution_count": 21,
   "metadata": {
    "colab": {
     "base_uri": "https://localhost:8080/",
     "height": 206
    },
    "id": "7FHpv5lxUrQF",
    "outputId": "91cf0c00-3df3-4502-ac57-ca3d449943c1"
   },
   "outputs": [
    {
     "data": {
      "text/html": [
       "<div>\n",
       "<style scoped>\n",
       "    .dataframe tbody tr th:only-of-type {\n",
       "        vertical-align: middle;\n",
       "    }\n",
       "\n",
       "    .dataframe tbody tr th {\n",
       "        vertical-align: top;\n",
       "    }\n",
       "\n",
       "    .dataframe thead th {\n",
       "        text-align: right;\n",
       "    }\n",
       "</style>\n",
       "<table border=\"1\" class=\"dataframe\">\n",
       "  <thead>\n",
       "    <tr style=\"text-align: right;\">\n",
       "      <th></th>\n",
       "      <th>experience_level</th>\n",
       "      <th>employment_type</th>\n",
       "      <th>salary</th>\n",
       "      <th>salary_in_usd</th>\n",
       "      <th>remote_ratio</th>\n",
       "    </tr>\n",
       "  </thead>\n",
       "  <tbody>\n",
       "    <tr>\n",
       "      <th>experience_level</th>\n",
       "      <td>1.000000</td>\n",
       "      <td>0.037523</td>\n",
       "      <td>-0.069267</td>\n",
       "      <td>0.112154</td>\n",
       "      <td>0.068731</td>\n",
       "    </tr>\n",
       "    <tr>\n",
       "      <th>employment_type</th>\n",
       "      <td>0.037523</td>\n",
       "      <td>1.000000</td>\n",
       "      <td>-0.037920</td>\n",
       "      <td>-0.019060</td>\n",
       "      <td>0.034437</td>\n",
       "    </tr>\n",
       "    <tr>\n",
       "      <th>salary</th>\n",
       "      <td>-0.069267</td>\n",
       "      <td>-0.037920</td>\n",
       "      <td>1.000000</td>\n",
       "      <td>-0.087365</td>\n",
       "      <td>-0.004775</td>\n",
       "    </tr>\n",
       "    <tr>\n",
       "      <th>salary_in_usd</th>\n",
       "      <td>0.112154</td>\n",
       "      <td>-0.019060</td>\n",
       "      <td>-0.087365</td>\n",
       "      <td>1.000000</td>\n",
       "      <td>0.171240</td>\n",
       "    </tr>\n",
       "    <tr>\n",
       "      <th>remote_ratio</th>\n",
       "      <td>0.068731</td>\n",
       "      <td>0.034437</td>\n",
       "      <td>-0.004775</td>\n",
       "      <td>0.171240</td>\n",
       "      <td>1.000000</td>\n",
       "    </tr>\n",
       "  </tbody>\n",
       "</table>\n",
       "</div>"
      ],
      "text/plain": [
       "                  experience_level  employment_type    salary  salary_in_usd  \\\n",
       "experience_level          1.000000         0.037523 -0.069267       0.112154   \n",
       "employment_type           0.037523         1.000000 -0.037920      -0.019060   \n",
       "salary                   -0.069267        -0.037920  1.000000      -0.087365   \n",
       "salary_in_usd             0.112154        -0.019060 -0.087365       1.000000   \n",
       "remote_ratio              0.068731         0.034437 -0.004775       0.171240   \n",
       "\n",
       "                  remote_ratio  \n",
       "experience_level      0.068731  \n",
       "employment_type       0.034437  \n",
       "salary               -0.004775  \n",
       "salary_in_usd         0.171240  \n",
       "remote_ratio          1.000000  "
      ]
     },
     "execution_count": 21,
     "metadata": {},
     "output_type": "execute_result"
    }
   ],
   "source": [
    "#correlation of data\n",
    "data.corr()"
   ]
  },
  {
   "cell_type": "code",
   "execution_count": 22,
   "metadata": {
    "colab": {
     "base_uri": "https://localhost:8080/",
     "height": 557
    },
    "id": "tOzf2pq3Uym2",
    "outputId": "afda770d-8865-491d-a677-544ac0ccc650"
   },
   "outputs": [
    {
     "data": {
      "image/png": "[encoded data removed]",
      "text/plain": [
       "<Figure size 640x480 with 2 Axes>"
      ]
     },
     "metadata": {},
     "output_type": "display_data"
    }
   ],
   "source": [
    "#heatmap of data correlation\n",
    "sns.heatmap(data.corr(), annot=True, cmap='YlGnBu')\n",
    "plt.show()"
   ]
  },
  {
   "cell_type": "code",
   "execution_count": 23,
   "metadata": {
    "colab": {
     "base_uri": "https://localhost:8080/",
     "height": 1000
    },
    "id": "IVNtKFEXV21C",
    "outputId": "85effb03-3465-4b21-f652-b86d2cee7842"
   },
   "outputs": [
    {
     "data": {
      "text/plain": [
       "<seaborn.axisgrid.PairGrid at 0x2159d87c640>"
      ]
     },
     "execution_count": 23,
     "metadata": {},
     "output_type": "execute_result"
    },
    {
     "data": {
      "image/png": "[encoded data removed]",
      "text/plain": [
       "<Figure size 1250x1250 with 30 Axes>"
      ]
     },
     "metadata": {},
     "output_type": "display_data"
    }
   ],
   "source": [
    "#pairplot\n",
    "sns.pairplot(data)"
   ]
  },
  {
   "cell_type": "markdown",
   "metadata": {
    "id": "UTm0t1viurDz"
   },
   "source": [
    "# Problem 5\n"
   ]
  },
  {
   "cell_type": "code",
   "execution_count": 31,
   "metadata": {
    "colab": {
     "base_uri": "https://localhost:8080/"
    },
    "id": "obZSzfc1mJI9",
    "outputId": "e78179f1-11dc-40d0-eeb5-44c57f94ebdd"
   },
   "outputs": [
    {
     "name": "stdout",
     "output_type": "stream",
     "text": [
      "Data Scientist                59\n",
      "Data Engineer                 38\n",
      "Machine Learning Engineer     20\n",
      "Data Analyst                  20\n",
      "Research Scientist            10\n",
      "Data Science Consultant        7\n",
      "Big Data Engineer              6\n",
      "Data Science Manager           5\n",
      "Lead Data Engineer             5\n",
      "BI Data Analyst                5\n",
      "AI Scientist                   5\n",
      "Principal Data Scientist       5\n",
      "Director of Data Science       4\n",
      "Machine Learning Scientist     4\n",
      "Data Engineering Manager       3\n",
      "Business Data Analyst          3\n",
      "ML Engineer                    3\n",
      "Data Analytics Engineer        3\n",
      "Lead Data Analyst              3\n",
      "Data Analytics Manager         3\n",
      "Computer Vision Engineer       3\n",
      "Name: job_title, dtype: int64\n"
     ]
    }
   ],
   "source": [
    "job_title_counts = data['job_title'].value_counts()\n",
    "job_titles_over_2 = job_title_counts[job_title_counts > 2]\n",
    "print(job_titles_over_2)"
   ]
  },
  {
   "cell_type": "code",
   "execution_count": 32,
   "metadata": {
    "colab": {
     "base_uri": "https://localhost:8080/"
    },
    "id": "iZbqAeYRm255",
    "outputId": "4c287fcc-f215-49c1-b5a0-85f49fa45fcb"
   },
   "outputs": [
    {
     "name": "stdout",
     "output_type": "stream",
     "text": [
      "['Data Scientist', 'Data Engineer', 'Machine Learning Engineer', 'Data Analyst', 'Research Scientist', 'Data Science Consultant', 'Big Data Engineer', 'Data Science Manager', 'Lead Data Engineer', 'BI Data Analyst', 'AI Scientist', 'Principal Data Scientist', 'Director of Data Science', 'Machine Learning Scientist', 'Data Engineering Manager', 'Business Data Analyst', 'ML Engineer', 'Data Analytics Engineer', 'Lead Data Analyst', 'Data Analytics Manager', 'Computer Vision Engineer']\n"
     ]
    }
   ],
   "source": [
    "selected_professions = job_titles_over_2.index.tolist()\n",
    "\n",
    "print(selected_professions)"
   ]
  },
  {
   "cell_type": "code",
   "execution_count": 33,
   "metadata": {
    "colab": {
     "base_uri": "https://localhost:8080/"
    },
    "id": "TxitD5c0m7yX",
    "outputId": "4792aa8c-21fd-4c5d-dd41-5e724ad85f4d"
   },
   "outputs": [
    {
     "data": {
      "text/plain": [
       "245"
      ]
     },
     "execution_count": 33,
     "metadata": {},
     "output_type": "execute_result"
    }
   ],
   "source": [
    "len(data)"
   ]
  },
  {
   "cell_type": "code",
   "execution_count": 35,
   "metadata": {
    "id": "30QvKipSnDhP"
   },
   "outputs": [],
   "source": [
    "for index, row in data.iterrows(): \n",
    "    if row['job_title'] not in selected_professions: \n",
    "        data.loc[index, 'job_title'] = 'Other' "
   ]
  },
  {
   "cell_type": "code",
   "execution_count": 36,
   "metadata": {
    "colab": {
     "base_uri": "https://localhost:8080/"
    },
    "id": "GRB_DIsenPBA",
    "outputId": "4bf1b44f-9702-4844-8f0a-d8126aa04df4"
   },
   "outputs": [
    {
     "data": {
      "text/plain": [
       "Data Scientist                59\n",
       "Data Engineer                 38\n",
       "Other                         31\n",
       "Machine Learning Engineer     20\n",
       "Data Analyst                  20\n",
       "Research Scientist            10\n",
       "Data Science Consultant        7\n",
       "Big Data Engineer              6\n",
       "BI Data Analyst                5\n",
       "Principal Data Scientist       5\n",
       "Data Science Manager           5\n",
       "AI Scientist                   5\n",
       "Lead Data Engineer             5\n",
       "Machine Learning Scientist     4\n",
       "Director of Data Science       4\n",
       "Lead Data Analyst              3\n",
       "Data Analytics Engineer        3\n",
       "ML Engineer                    3\n",
       "Data Engineering Manager       3\n",
       "Business Data Analyst          3\n",
       "Data Analytics Manager         3\n",
       "Computer Vision Engineer       3\n",
       "Name: job_title, dtype: int64"
      ]
     },
     "execution_count": 36,
     "metadata": {},
     "output_type": "execute_result"
    }
   ],
   "source": [
    "data['job_title'].value_counts()"
   ]
  },
  {
   "cell_type": "code",
   "execution_count": 37,
   "metadata": {
    "colab": {
     "base_uri": "https://localhost:8080/",
     "height": 206
    },
    "id": "g4gki8_BnTVl",
    "outputId": "1edb4b73-3497-4a5d-8d2e-ea1d0bcb4900"
   },
   "outputs": [
    {
     "data": {
      "text/html": [
       "<div>\n",
       "<style scoped>\n",
       "    .dataframe tbody tr th:only-of-type {\n",
       "        vertical-align: middle;\n",
       "    }\n",
       "\n",
       "    .dataframe tbody tr th {\n",
       "        vertical-align: top;\n",
       "    }\n",
       "\n",
       "    .dataframe thead th {\n",
       "        text-align: right;\n",
       "    }\n",
       "</style>\n",
       "<table border=\"1\" class=\"dataframe\">\n",
       "  <thead>\n",
       "    <tr style=\"text-align: right;\">\n",
       "      <th></th>\n",
       "      <th>work_year</th>\n",
       "      <th>experience_level</th>\n",
       "      <th>employment_type</th>\n",
       "      <th>job_title</th>\n",
       "      <th>salary</th>\n",
       "      <th>salary_currency</th>\n",
       "      <th>salary_in_usd</th>\n",
       "      <th>employee_residence</th>\n",
       "      <th>remote_ratio</th>\n",
       "      <th>company_location</th>\n",
       "      <th>company_size</th>\n",
       "    </tr>\n",
       "  </thead>\n",
       "  <tbody>\n",
       "    <tr>\n",
       "      <th>0</th>\n",
       "      <td>2021e</td>\n",
       "      <td>2</td>\n",
       "      <td>0</td>\n",
       "      <td>Data Science Consultant</td>\n",
       "      <td>54000</td>\n",
       "      <td>EUR</td>\n",
       "      <td>64369</td>\n",
       "      <td>DE</td>\n",
       "      <td>50</td>\n",
       "      <td>DE</td>\n",
       "      <td>L</td>\n",
       "    </tr>\n",
       "    <tr>\n",
       "      <th>1</th>\n",
       "      <td>2020</td>\n",
       "      <td>1</td>\n",
       "      <td>0</td>\n",
       "      <td>Data Scientist</td>\n",
       "      <td>60000</td>\n",
       "      <td>EUR</td>\n",
       "      <td>68428</td>\n",
       "      <td>GR</td>\n",
       "      <td>100</td>\n",
       "      <td>US</td>\n",
       "      <td>L</td>\n",
       "    </tr>\n",
       "    <tr>\n",
       "      <th>2</th>\n",
       "      <td>2021e</td>\n",
       "      <td>3</td>\n",
       "      <td>0</td>\n",
       "      <td>Other</td>\n",
       "      <td>85000</td>\n",
       "      <td>USD</td>\n",
       "      <td>85000</td>\n",
       "      <td>RU</td>\n",
       "      <td>0</td>\n",
       "      <td>RU</td>\n",
       "      <td>M</td>\n",
       "    </tr>\n",
       "    <tr>\n",
       "      <th>3</th>\n",
       "      <td>2021e</td>\n",
       "      <td>3</td>\n",
       "      <td>0</td>\n",
       "      <td>Other</td>\n",
       "      <td>230000</td>\n",
       "      <td>USD</td>\n",
       "      <td>230000</td>\n",
       "      <td>RU</td>\n",
       "      <td>50</td>\n",
       "      <td>RU</td>\n",
       "      <td>L</td>\n",
       "    </tr>\n",
       "    <tr>\n",
       "      <th>4</th>\n",
       "      <td>2021e</td>\n",
       "      <td>2</td>\n",
       "      <td>0</td>\n",
       "      <td>Machine Learning Engineer</td>\n",
       "      <td>125000</td>\n",
       "      <td>USD</td>\n",
       "      <td>125000</td>\n",
       "      <td>US</td>\n",
       "      <td>100</td>\n",
       "      <td>US</td>\n",
       "      <td>S</td>\n",
       "    </tr>\n",
       "  </tbody>\n",
       "</table>\n",
       "</div>"
      ],
      "text/plain": [
       "  work_year  experience_level  employment_type                  job_title  \\\n",
       "0     2021e                 2                0    Data Science Consultant   \n",
       "1      2020                 1                0             Data Scientist   \n",
       "2     2021e                 3                0                      Other   \n",
       "3     2021e                 3                0                      Other   \n",
       "4     2021e                 2                0  Machine Learning Engineer   \n",
       "\n",
       "   salary salary_currency  salary_in_usd employee_residence  remote_ratio  \\\n",
       "0   54000             EUR          64369                 DE            50   \n",
       "1   60000             EUR          68428                 GR           100   \n",
       "2   85000             USD          85000                 RU             0   \n",
       "3  230000             USD         230000                 RU            50   \n",
       "4  125000             USD         125000                 US           100   \n",
       "\n",
       "  company_location company_size  \n",
       "0               DE            L  \n",
       "1               US            L  \n",
       "2               RU            M  \n",
       "3               RU            L  \n",
       "4               US            S  "
      ]
     },
     "execution_count": 37,
     "metadata": {},
     "output_type": "execute_result"
    }
   ],
   "source": [
    "data.head()"
   ]
  },
  {
   "cell_type": "code",
   "execution_count": 38,
   "metadata": {
    "colab": {
     "base_uri": "https://localhost:8080/"
    },
    "id": "ZWcKxj4HnY1h",
    "outputId": "960525aa-772c-4d50-9fef-b04b75966d1e"
   },
   "outputs": [
    {
     "name": "stdout",
     "output_type": "stream",
     "text": [
      "work_year             0\n",
      "experience_level      0\n",
      "employment_type       0\n",
      "job_title             0\n",
      "salary                0\n",
      "salary_currency       0\n",
      "salary_in_usd         0\n",
      "employee_residence    0\n",
      "remote_ratio          0\n",
      "company_location      0\n",
      "company_size          0\n",
      "dtype: int64\n"
     ]
    }
   ],
   "source": [
    "print(data.isnull().sum())\n",
    "data = data.dropna()"
   ]
  },
  {
   "cell_type": "code",
   "execution_count": 39,
   "metadata": {
    "colab": {
     "base_uri": "https://localhost:8080/"
    },
    "id": "L3RxwKfNnio-",
    "outputId": "54b3ac98-5223-4dfe-da06-ea46a1a98562"
   },
   "outputs": [
    {
     "name": "stdout",
     "output_type": "stream",
     "text": [
      "<class 'pandas.core.frame.DataFrame'>\n",
      "RangeIndex: 245 entries, 0 to 244\n",
      "Data columns (total 11 columns):\n",
      " #   Column              Non-Null Count  Dtype \n",
      "---  ------              --------------  ----- \n",
      " 0   work_year           245 non-null    object\n",
      " 1   experience_level    245 non-null    int64 \n",
      " 2   employment_type     245 non-null    int64 \n",
      " 3   job_title           245 non-null    object\n",
      " 4   salary              245 non-null    int64 \n",
      " 5   salary_currency     245 non-null    object\n",
      " 6   salary_in_usd       245 non-null    int64 \n",
      " 7   employee_residence  245 non-null    object\n",
      " 8   remote_ratio        245 non-null    int64 \n",
      " 9   company_location    245 non-null    object\n",
      " 10  company_size        245 non-null    object\n",
      "dtypes: int64(5), object(6)\n",
      "memory usage: 21.2+ KB\n"
     ]
    }
   ],
   "source": [
    "data.info()"
   ]
  },
  {
   "cell_type": "code",
   "execution_count": 40,
   "metadata": {
    "colab": {
     "base_uri": "https://localhost:8080/",
     "height": 352
    },
    "id": "O6OFbpnWnzkl",
    "outputId": "dc0cd19c-05ed-4002-96ca-32d0233a6cc5"
   },
   "outputs": [
    {
     "data": {
      "text/html": [
       "<div>\n",
       "<style scoped>\n",
       "    .dataframe tbody tr th:only-of-type {\n",
       "        vertical-align: middle;\n",
       "    }\n",
       "\n",
       "    .dataframe tbody tr th {\n",
       "        vertical-align: top;\n",
       "    }\n",
       "\n",
       "    .dataframe thead th {\n",
       "        text-align: right;\n",
       "    }\n",
       "</style>\n",
       "<table border=\"1\" class=\"dataframe\">\n",
       "  <thead>\n",
       "    <tr style=\"text-align: right;\">\n",
       "      <th></th>\n",
       "      <th>experience_level</th>\n",
       "      <th>employment_type</th>\n",
       "      <th>salary</th>\n",
       "      <th>salary_in_usd</th>\n",
       "      <th>remote_ratio</th>\n",
       "      <th>work_year_2021e</th>\n",
       "      <th>job_title_BI Data Analyst</th>\n",
       "      <th>job_title_Big Data Engineer</th>\n",
       "      <th>job_title_Business Data Analyst</th>\n",
       "      <th>job_title_Computer Vision Engineer</th>\n",
       "      <th>...</th>\n",
       "      <th>company_location_PT</th>\n",
       "      <th>company_location_RU</th>\n",
       "      <th>company_location_SG</th>\n",
       "      <th>company_location_SI</th>\n",
       "      <th>company_location_TR</th>\n",
       "      <th>company_location_UA</th>\n",
       "      <th>company_location_US</th>\n",
       "      <th>company_location_VN</th>\n",
       "      <th>company_size_M</th>\n",
       "      <th>company_size_S</th>\n",
       "    </tr>\n",
       "  </thead>\n",
       "  <tbody>\n",
       "    <tr>\n",
       "      <th>0</th>\n",
       "      <td>2</td>\n",
       "      <td>0</td>\n",
       "      <td>54000</td>\n",
       "      <td>64369</td>\n",
       "      <td>50</td>\n",
       "      <td>1</td>\n",
       "      <td>0</td>\n",
       "      <td>0</td>\n",
       "      <td>0</td>\n",
       "      <td>0</td>\n",
       "      <td>...</td>\n",
       "      <td>0</td>\n",
       "      <td>0</td>\n",
       "      <td>0</td>\n",
       "      <td>0</td>\n",
       "      <td>0</td>\n",
       "      <td>0</td>\n",
       "      <td>0</td>\n",
       "      <td>0</td>\n",
       "      <td>0</td>\n",
       "      <td>0</td>\n",
       "    </tr>\n",
       "    <tr>\n",
       "      <th>1</th>\n",
       "      <td>1</td>\n",
       "      <td>0</td>\n",
       "      <td>60000</td>\n",
       "      <td>68428</td>\n",
       "      <td>100</td>\n",
       "      <td>0</td>\n",
       "      <td>0</td>\n",
       "      <td>0</td>\n",
       "      <td>0</td>\n",
       "      <td>0</td>\n",
       "      <td>...</td>\n",
       "      <td>0</td>\n",
       "      <td>0</td>\n",
       "      <td>0</td>\n",
       "      <td>0</td>\n",
       "      <td>0</td>\n",
       "      <td>0</td>\n",
       "      <td>1</td>\n",
       "      <td>0</td>\n",
       "      <td>0</td>\n",
       "      <td>0</td>\n",
       "    </tr>\n",
       "    <tr>\n",
       "      <th>2</th>\n",
       "      <td>3</td>\n",
       "      <td>0</td>\n",
       "      <td>85000</td>\n",
       "      <td>85000</td>\n",
       "      <td>0</td>\n",
       "      <td>1</td>\n",
       "      <td>0</td>\n",
       "      <td>0</td>\n",
       "      <td>0</td>\n",
       "      <td>0</td>\n",
       "      <td>...</td>\n",
       "      <td>0</td>\n",
       "      <td>1</td>\n",
       "      <td>0</td>\n",
       "      <td>0</td>\n",
       "      <td>0</td>\n",
       "      <td>0</td>\n",
       "      <td>0</td>\n",
       "      <td>0</td>\n",
       "      <td>1</td>\n",
       "      <td>0</td>\n",
       "    </tr>\n",
       "    <tr>\n",
       "      <th>3</th>\n",
       "      <td>3</td>\n",
       "      <td>0</td>\n",
       "      <td>230000</td>\n",
       "      <td>230000</td>\n",
       "      <td>50</td>\n",
       "      <td>1</td>\n",
       "      <td>0</td>\n",
       "      <td>0</td>\n",
       "      <td>0</td>\n",
       "      <td>0</td>\n",
       "      <td>...</td>\n",
       "      <td>0</td>\n",
       "      <td>1</td>\n",
       "      <td>0</td>\n",
       "      <td>0</td>\n",
       "      <td>0</td>\n",
       "      <td>0</td>\n",
       "      <td>0</td>\n",
       "      <td>0</td>\n",
       "      <td>0</td>\n",
       "      <td>0</td>\n",
       "    </tr>\n",
       "    <tr>\n",
       "      <th>4</th>\n",
       "      <td>2</td>\n",
       "      <td>0</td>\n",
       "      <td>125000</td>\n",
       "      <td>125000</td>\n",
       "      <td>100</td>\n",
       "      <td>1</td>\n",
       "      <td>0</td>\n",
       "      <td>0</td>\n",
       "      <td>0</td>\n",
       "      <td>0</td>\n",
       "      <td>...</td>\n",
       "      <td>0</td>\n",
       "      <td>0</td>\n",
       "      <td>0</td>\n",
       "      <td>0</td>\n",
       "      <td>0</td>\n",
       "      <td>0</td>\n",
       "      <td>1</td>\n",
       "      <td>0</td>\n",
       "      <td>0</td>\n",
       "      <td>1</td>\n",
       "    </tr>\n",
       "  </tbody>\n",
       "</table>\n",
       "<p>5 rows × 127 columns</p>\n",
       "</div>"
      ],
      "text/plain": [
       "   experience_level  employment_type  salary  salary_in_usd  remote_ratio  \\\n",
       "0                 2                0   54000          64369            50   \n",
       "1                 1                0   60000          68428           100   \n",
       "2                 3                0   85000          85000             0   \n",
       "3                 3                0  230000         230000            50   \n",
       "4                 2                0  125000         125000           100   \n",
       "\n",
       "   work_year_2021e  job_title_BI Data Analyst  job_title_Big Data Engineer  \\\n",
       "0                1                          0                            0   \n",
       "1                0                          0                            0   \n",
       "2                1                          0                            0   \n",
       "3                1                          0                            0   \n",
       "4                1                          0                            0   \n",
       "\n",
       "   job_title_Business Data Analyst  job_title_Computer Vision Engineer  ...  \\\n",
       "0                                0                                   0  ...   \n",
       "1                                0                                   0  ...   \n",
       "2                                0                                   0  ...   \n",
       "3                                0                                   0  ...   \n",
       "4                                0                                   0  ...   \n",
       "\n",
       "   company_location_PT  company_location_RU  company_location_SG  \\\n",
       "0                    0                    0                    0   \n",
       "1                    0                    0                    0   \n",
       "2                    0                    1                    0   \n",
       "3                    0                    1                    0   \n",
       "4                    0                    0                    0   \n",
       "\n",
       "   company_location_SI  company_location_TR  company_location_UA  \\\n",
       "0                    0                    0                    0   \n",
       "1                    0                    0                    0   \n",
       "2                    0                    0                    0   \n",
       "3                    0                    0                    0   \n",
       "4                    0                    0                    0   \n",
       "\n",
       "   company_location_US  company_location_VN  company_size_M  company_size_S  \n",
       "0                    0                    0               0               0  \n",
       "1                    1                    0               0               0  \n",
       "2                    0                    0               1               0  \n",
       "3                    0                    0               0               0  \n",
       "4                    1                    0               0               1  \n",
       "\n",
       "[5 rows x 127 columns]"
      ]
     },
     "execution_count": 40,
     "metadata": {},
     "output_type": "execute_result"
    }
   ],
   "source": [
    "data = pd.get_dummies(data = data, drop_first=True)\n",
    "data.head()"
   ]
  },
  {
   "cell_type": "code",
   "execution_count": 41,
   "metadata": {
    "colab": {
     "base_uri": "https://localhost:8080/"
    },
    "id": "Voe2cyKKn_2t",
    "outputId": "9ca9be76-8d92-4e6c-fabc-e6bf280bbc37"
   },
   "outputs": [
    {
     "name": "stdout",
     "output_type": "stream",
     "text": [
      "<class 'pandas.core.frame.DataFrame'>\n",
      "RangeIndex: 245 entries, 0 to 244\n",
      "Columns: 127 entries, experience_level to company_size_S\n",
      "dtypes: int64(5), uint8(122)\n",
      "memory usage: 38.9 KB\n"
     ]
    }
   ],
   "source": [
    "data.info()"
   ]
  },
  {
   "cell_type": "code",
   "execution_count": 43,
   "metadata": {
    "id": "HuN7SDrYhEGN"
   },
   "outputs": [],
   "source": [
    "#feature extraction\n",
    "X = data.drop(columns=['salary'])\n",
    "y = data.salary"
   ]
  },
  {
   "cell_type": "code",
   "execution_count": 44,
   "metadata": {
    "colab": {
     "base_uri": "https://localhost:8080/",
     "height": 540
    },
    "id": "mUgZjW3ohTz0",
    "outputId": "74b2874f-ccd8-441e-9f24-bc8bb361039c"
   },
   "outputs": [
    {
     "data": {
      "text/html": [
       "<div>\n",
       "<style scoped>\n",
       "    .dataframe tbody tr th:only-of-type {\n",
       "        vertical-align: middle;\n",
       "    }\n",
       "\n",
       "    .dataframe tbody tr th {\n",
       "        vertical-align: top;\n",
       "    }\n",
       "\n",
       "    .dataframe thead th {\n",
       "        text-align: right;\n",
       "    }\n",
       "</style>\n",
       "<table border=\"1\" class=\"dataframe\">\n",
       "  <thead>\n",
       "    <tr style=\"text-align: right;\">\n",
       "      <th></th>\n",
       "      <th>experience_level</th>\n",
       "      <th>employment_type</th>\n",
       "      <th>salary_in_usd</th>\n",
       "      <th>remote_ratio</th>\n",
       "      <th>work_year_2021e</th>\n",
       "      <th>job_title_BI Data Analyst</th>\n",
       "      <th>job_title_Big Data Engineer</th>\n",
       "      <th>job_title_Business Data Analyst</th>\n",
       "      <th>job_title_Computer Vision Engineer</th>\n",
       "      <th>job_title_Data Analyst</th>\n",
       "      <th>...</th>\n",
       "      <th>company_location_PT</th>\n",
       "      <th>company_location_RU</th>\n",
       "      <th>company_location_SG</th>\n",
       "      <th>company_location_SI</th>\n",
       "      <th>company_location_TR</th>\n",
       "      <th>company_location_UA</th>\n",
       "      <th>company_location_US</th>\n",
       "      <th>company_location_VN</th>\n",
       "      <th>company_size_M</th>\n",
       "      <th>company_size_S</th>\n",
       "    </tr>\n",
       "  </thead>\n",
       "  <tbody>\n",
       "    <tr>\n",
       "      <th>0</th>\n",
       "      <td>2</td>\n",
       "      <td>0</td>\n",
       "      <td>64369</td>\n",
       "      <td>50</td>\n",
       "      <td>1</td>\n",
       "      <td>0</td>\n",
       "      <td>0</td>\n",
       "      <td>0</td>\n",
       "      <td>0</td>\n",
       "      <td>0</td>\n",
       "      <td>...</td>\n",
       "      <td>0</td>\n",
       "      <td>0</td>\n",
       "      <td>0</td>\n",
       "      <td>0</td>\n",
       "      <td>0</td>\n",
       "      <td>0</td>\n",
       "      <td>0</td>\n",
       "      <td>0</td>\n",
       "      <td>0</td>\n",
       "      <td>0</td>\n",
       "    </tr>\n",
       "    <tr>\n",
       "      <th>1</th>\n",
       "      <td>1</td>\n",
       "      <td>0</td>\n",
       "      <td>68428</td>\n",
       "      <td>100</td>\n",
       "      <td>0</td>\n",
       "      <td>0</td>\n",
       "      <td>0</td>\n",
       "      <td>0</td>\n",
       "      <td>0</td>\n",
       "      <td>0</td>\n",
       "      <td>...</td>\n",
       "      <td>0</td>\n",
       "      <td>0</td>\n",
       "      <td>0</td>\n",
       "      <td>0</td>\n",
       "      <td>0</td>\n",
       "      <td>0</td>\n",
       "      <td>1</td>\n",
       "      <td>0</td>\n",
       "      <td>0</td>\n",
       "      <td>0</td>\n",
       "    </tr>\n",
       "    <tr>\n",
       "      <th>2</th>\n",
       "      <td>3</td>\n",
       "      <td>0</td>\n",
       "      <td>85000</td>\n",
       "      <td>0</td>\n",
       "      <td>1</td>\n",
       "      <td>0</td>\n",
       "      <td>0</td>\n",
       "      <td>0</td>\n",
       "      <td>0</td>\n",
       "      <td>0</td>\n",
       "      <td>...</td>\n",
       "      <td>0</td>\n",
       "      <td>1</td>\n",
       "      <td>0</td>\n",
       "      <td>0</td>\n",
       "      <td>0</td>\n",
       "      <td>0</td>\n",
       "      <td>0</td>\n",
       "      <td>0</td>\n",
       "      <td>1</td>\n",
       "      <td>0</td>\n",
       "    </tr>\n",
       "    <tr>\n",
       "      <th>3</th>\n",
       "      <td>3</td>\n",
       "      <td>0</td>\n",
       "      <td>230000</td>\n",
       "      <td>50</td>\n",
       "      <td>1</td>\n",
       "      <td>0</td>\n",
       "      <td>0</td>\n",
       "      <td>0</td>\n",
       "      <td>0</td>\n",
       "      <td>0</td>\n",
       "      <td>...</td>\n",
       "      <td>0</td>\n",
       "      <td>1</td>\n",
       "      <td>0</td>\n",
       "      <td>0</td>\n",
       "      <td>0</td>\n",
       "      <td>0</td>\n",
       "      <td>0</td>\n",
       "      <td>0</td>\n",
       "      <td>0</td>\n",
       "      <td>0</td>\n",
       "    </tr>\n",
       "    <tr>\n",
       "      <th>4</th>\n",
       "      <td>2</td>\n",
       "      <td>0</td>\n",
       "      <td>125000</td>\n",
       "      <td>100</td>\n",
       "      <td>1</td>\n",
       "      <td>0</td>\n",
       "      <td>0</td>\n",
       "      <td>0</td>\n",
       "      <td>0</td>\n",
       "      <td>0</td>\n",
       "      <td>...</td>\n",
       "      <td>0</td>\n",
       "      <td>0</td>\n",
       "      <td>0</td>\n",
       "      <td>0</td>\n",
       "      <td>0</td>\n",
       "      <td>0</td>\n",
       "      <td>1</td>\n",
       "      <td>0</td>\n",
       "      <td>0</td>\n",
       "      <td>1</td>\n",
       "    </tr>\n",
       "    <tr>\n",
       "      <th>...</th>\n",
       "      <td>...</td>\n",
       "      <td>...</td>\n",
       "      <td>...</td>\n",
       "      <td>...</td>\n",
       "      <td>...</td>\n",
       "      <td>...</td>\n",
       "      <td>...</td>\n",
       "      <td>...</td>\n",
       "      <td>...</td>\n",
       "      <td>...</td>\n",
       "      <td>...</td>\n",
       "      <td>...</td>\n",
       "      <td>...</td>\n",
       "      <td>...</td>\n",
       "      <td>...</td>\n",
       "      <td>...</td>\n",
       "      <td>...</td>\n",
       "      <td>...</td>\n",
       "      <td>...</td>\n",
       "      <td>...</td>\n",
       "      <td>...</td>\n",
       "    </tr>\n",
       "    <tr>\n",
       "      <th>240</th>\n",
       "      <td>1</td>\n",
       "      <td>0</td>\n",
       "      <td>412000</td>\n",
       "      <td>100</td>\n",
       "      <td>0</td>\n",
       "      <td>0</td>\n",
       "      <td>0</td>\n",
       "      <td>0</td>\n",
       "      <td>0</td>\n",
       "      <td>0</td>\n",
       "      <td>...</td>\n",
       "      <td>0</td>\n",
       "      <td>0</td>\n",
       "      <td>0</td>\n",
       "      <td>0</td>\n",
       "      <td>0</td>\n",
       "      <td>0</td>\n",
       "      <td>1</td>\n",
       "      <td>0</td>\n",
       "      <td>0</td>\n",
       "      <td>0</td>\n",
       "    </tr>\n",
       "    <tr>\n",
       "      <th>241</th>\n",
       "      <td>0</td>\n",
       "      <td>0</td>\n",
       "      <td>151000</td>\n",
       "      <td>100</td>\n",
       "      <td>1</td>\n",
       "      <td>0</td>\n",
       "      <td>0</td>\n",
       "      <td>0</td>\n",
       "      <td>0</td>\n",
       "      <td>0</td>\n",
       "      <td>...</td>\n",
       "      <td>0</td>\n",
       "      <td>0</td>\n",
       "      <td>0</td>\n",
       "      <td>0</td>\n",
       "      <td>0</td>\n",
       "      <td>0</td>\n",
       "      <td>1</td>\n",
       "      <td>0</td>\n",
       "      <td>0</td>\n",
       "      <td>0</td>\n",
       "    </tr>\n",
       "    <tr>\n",
       "      <th>242</th>\n",
       "      <td>2</td>\n",
       "      <td>0</td>\n",
       "      <td>105000</td>\n",
       "      <td>100</td>\n",
       "      <td>0</td>\n",
       "      <td>0</td>\n",
       "      <td>0</td>\n",
       "      <td>0</td>\n",
       "      <td>0</td>\n",
       "      <td>0</td>\n",
       "      <td>...</td>\n",
       "      <td>0</td>\n",
       "      <td>0</td>\n",
       "      <td>0</td>\n",
       "      <td>0</td>\n",
       "      <td>0</td>\n",
       "      <td>0</td>\n",
       "      <td>1</td>\n",
       "      <td>0</td>\n",
       "      <td>0</td>\n",
       "      <td>1</td>\n",
       "    </tr>\n",
       "    <tr>\n",
       "      <th>243</th>\n",
       "      <td>2</td>\n",
       "      <td>2</td>\n",
       "      <td>100000</td>\n",
       "      <td>100</td>\n",
       "      <td>0</td>\n",
       "      <td>0</td>\n",
       "      <td>0</td>\n",
       "      <td>1</td>\n",
       "      <td>0</td>\n",
       "      <td>0</td>\n",
       "      <td>...</td>\n",
       "      <td>0</td>\n",
       "      <td>0</td>\n",
       "      <td>0</td>\n",
       "      <td>0</td>\n",
       "      <td>0</td>\n",
       "      <td>0</td>\n",
       "      <td>1</td>\n",
       "      <td>0</td>\n",
       "      <td>0</td>\n",
       "      <td>0</td>\n",
       "    </tr>\n",
       "    <tr>\n",
       "      <th>244</th>\n",
       "      <td>1</td>\n",
       "      <td>0</td>\n",
       "      <td>94917</td>\n",
       "      <td>50</td>\n",
       "      <td>1</td>\n",
       "      <td>0</td>\n",
       "      <td>0</td>\n",
       "      <td>0</td>\n",
       "      <td>0</td>\n",
       "      <td>0</td>\n",
       "      <td>...</td>\n",
       "      <td>0</td>\n",
       "      <td>0</td>\n",
       "      <td>0</td>\n",
       "      <td>0</td>\n",
       "      <td>0</td>\n",
       "      <td>0</td>\n",
       "      <td>0</td>\n",
       "      <td>0</td>\n",
       "      <td>0</td>\n",
       "      <td>0</td>\n",
       "    </tr>\n",
       "  </tbody>\n",
       "</table>\n",
       "<p>245 rows × 126 columns</p>\n",
       "</div>"
      ],
      "text/plain": [
       "     experience_level  employment_type  salary_in_usd  remote_ratio  \\\n",
       "0                   2                0          64369            50   \n",
       "1                   1                0          68428           100   \n",
       "2                   3                0          85000             0   \n",
       "3                   3                0         230000            50   \n",
       "4                   2                0         125000           100   \n",
       "..                ...              ...            ...           ...   \n",
       "240                 1                0         412000           100   \n",
       "241                 0                0         151000           100   \n",
       "242                 2                0         105000           100   \n",
       "243                 2                2         100000           100   \n",
       "244                 1                0          94917            50   \n",
       "\n",
       "     work_year_2021e  job_title_BI Data Analyst  job_title_Big Data Engineer  \\\n",
       "0                  1                          0                            0   \n",
       "1                  0                          0                            0   \n",
       "2                  1                          0                            0   \n",
       "3                  1                          0                            0   \n",
       "4                  1                          0                            0   \n",
       "..               ...                        ...                          ...   \n",
       "240                0                          0                            0   \n",
       "241                1                          0                            0   \n",
       "242                0                          0                            0   \n",
       "243                0                          0                            0   \n",
       "244                1                          0                            0   \n",
       "\n",
       "     job_title_Business Data Analyst  job_title_Computer Vision Engineer  \\\n",
       "0                                  0                                   0   \n",
       "1                                  0                                   0   \n",
       "2                                  0                                   0   \n",
       "3                                  0                                   0   \n",
       "4                                  0                                   0   \n",
       "..                               ...                                 ...   \n",
       "240                                0                                   0   \n",
       "241                                0                                   0   \n",
       "242                                0                                   0   \n",
       "243                                1                                   0   \n",
       "244                                0                                   0   \n",
       "\n",
       "     job_title_Data Analyst  ...  company_location_PT  company_location_RU  \\\n",
       "0                         0  ...                    0                    0   \n",
       "1                         0  ...                    0                    0   \n",
       "2                         0  ...                    0                    1   \n",
       "3                         0  ...                    0                    1   \n",
       "4                         0  ...                    0                    0   \n",
       "..                      ...  ...                  ...                  ...   \n",
       "240                       0  ...                    0                    0   \n",
       "241                       0  ...                    0                    0   \n",
       "242                       0  ...                    0                    0   \n",
       "243                       0  ...                    0                    0   \n",
       "244                       0  ...                    0                    0   \n",
       "\n",
       "     company_location_SG  company_location_SI  company_location_TR  \\\n",
       "0                      0                    0                    0   \n",
       "1                      0                    0                    0   \n",
       "2                      0                    0                    0   \n",
       "3                      0                    0                    0   \n",
       "4                      0                    0                    0   \n",
       "..                   ...                  ...                  ...   \n",
       "240                    0                    0                    0   \n",
       "241                    0                    0                    0   \n",
       "242                    0                    0                    0   \n",
       "243                    0                    0                    0   \n",
       "244                    0                    0                    0   \n",
       "\n",
       "     company_location_UA  company_location_US  company_location_VN  \\\n",
       "0                      0                    0                    0   \n",
       "1                      0                    1                    0   \n",
       "2                      0                    0                    0   \n",
       "3                      0                    0                    0   \n",
       "4                      0                    1                    0   \n",
       "..                   ...                  ...                  ...   \n",
       "240                    0                    1                    0   \n",
       "241                    0                    1                    0   \n",
       "242                    0                    1                    0   \n",
       "243                    0                    1                    0   \n",
       "244                    0                    0                    0   \n",
       "\n",
       "     company_size_M  company_size_S  \n",
       "0                 0               0  \n",
       "1                 0               0  \n",
       "2                 1               0  \n",
       "3                 0               0  \n",
       "4                 0               1  \n",
       "..              ...             ...  \n",
       "240               0               0  \n",
       "241               0               0  \n",
       "242               0               1  \n",
       "243               0               0  \n",
       "244               0               0  \n",
       "\n",
       "[245 rows x 126 columns]"
      ]
     },
     "execution_count": 44,
     "metadata": {},
     "output_type": "execute_result"
    }
   ],
   "source": [
    "X"
   ]
  },
  {
   "cell_type": "code",
   "execution_count": 45,
   "metadata": {
    "colab": {
     "base_uri": "https://localhost:8080/"
    },
    "id": "16KkwcjHhcTE",
    "outputId": "19a89948-c153-4ade-cb4c-30c56f132874"
   },
   "outputs": [
    {
     "data": {
      "text/plain": [
       "0        54000\n",
       "1        60000\n",
       "2        85000\n",
       "3       230000\n",
       "4       125000\n",
       "        ...   \n",
       "240     412000\n",
       "241     151000\n",
       "242     105000\n",
       "243     100000\n",
       "244    7000000\n",
       "Name: salary, Length: 245, dtype: int64"
      ]
     },
     "execution_count": 45,
     "metadata": {},
     "output_type": "execute_result"
    }
   ],
   "source": [
    "y"
   ]
  },
  {
   "cell_type": "code",
   "execution_count": 59,
   "metadata": {
    "id": "uXoUm_lkuzP7"
   },
   "outputs": [],
   "source": [
    "#load model\n",
    "from sklearn.linear_model import LinearRegression\n",
    "from sklearn.metrics import accuracy_score, precision_score,f1_score, confusion_matrix\n",
    "from sklearn.model_selection import train_test_split\n",
    "from sklearn.metrics import mean_squared_error, r2_score, mean_absolute_error"
   ]
  },
  {
   "cell_type": "code",
   "execution_count": 60,
   "metadata": {
    "id": "tTL0-A6OuzIM"
   },
   "outputs": [],
   "source": [
    "#train_test_split\n",
    "X_train,X_test,y_train,y_test = train_test_split(X,y,test_size=0.2,random_state=42)"
   ]
  },
  {
   "cell_type": "markdown",
   "metadata": {
    "id": "oz_e7P1DiAmV"
   },
   "source": [
    "Logistic Regression"
   ]
  },
  {
   "cell_type": "code",
   "execution_count": 61,
   "metadata": {
    "id": "dEL_uyOMiEed"
   },
   "outputs": [],
   "source": [
    "lr = LinearRegression()"
   ]
  },
  {
   "cell_type": "code",
   "execution_count": 62,
   "metadata": {
    "colab": {
     "base_uri": "https://localhost:8080/",
     "height": 75
    },
    "id": "q3leqFuHiIFx",
    "outputId": "6b7dc2b7-3d8f-4465-92da-4ec3566aa63b"
   },
   "outputs": [
    {
     "data": {
      "text/plain": [
       "LinearRegression()"
      ]
     },
     "execution_count": 62,
     "metadata": {},
     "output_type": "execute_result"
    }
   ],
   "source": [
    "lr.fit(X_train, y_train)"
   ]
  },
  {
   "cell_type": "code",
   "execution_count": 63,
   "metadata": {
    "colab": {
     "base_uri": "https://localhost:8080/"
    },
    "id": "nGZ8XC--hurq",
    "outputId": "1d9f09b3-d2a5-4919-8ffa-a1a43bc8c8d4"
   },
   "outputs": [
    {
     "data": {
      "text/plain": [
       "-0.3389161225810058"
      ]
     },
     "execution_count": 63,
     "metadata": {},
     "output_type": "execute_result"
    }
   ],
   "source": [
    "#prediction\n",
    "y_pred1 = lr.predict(X_test)\n",
    "lr.score(X_test, y_test)"
   ]
  },
  {
   "cell_type": "markdown",
   "metadata": {
    "id": "sihmM8AQu0DD"
   },
   "source": [
    "# Problem 6"
   ]
  },
  {
   "cell_type": "code",
   "execution_count": 64,
   "metadata": {
    "colab": {
     "base_uri": "https://localhost:8080/",
     "height": 75
    },
    "id": "oI4brYZctz10",
    "outputId": "2d2f4c39-aeb1-4515-bd2a-281bdf1c56a3"
   },
   "outputs": [
    {
     "data": {
      "text/plain": [
       "Ridge()"
      ]
     },
     "execution_count": 64,
     "metadata": {},
     "output_type": "execute_result"
    }
   ],
   "source": [
    "#ridge regreesion \n",
    "from sklearn.linear_model import Ridge\n",
    "\n",
    "ridge = Ridge()\n",
    "ridge.fit(X_train, y_train)"
   ]
  },
  {
   "cell_type": "code",
   "execution_count": 65,
   "metadata": {
    "colab": {
     "base_uri": "https://localhost:8080/"
    },
    "id": "4n3KBDwuuNY5",
    "outputId": "fc86148e-6b83-4f66-80b0-18798582722d"
   },
   "outputs": [
    {
     "data": {
      "text/plain": [
       "-0.4918606494944855"
      ]
     },
     "execution_count": 65,
     "metadata": {},
     "output_type": "execute_result"
    }
   ],
   "source": [
    "#prediction \n",
    "prediction = ridge.predict(X_test)\n",
    "\n",
    "ridge.score(X_test, y_test)"
   ]
  },
  {
   "cell_type": "markdown",
   "metadata": {
    "id": "QYLwnkevyGmM"
   },
   "source": [
    "# Problem 7"
   ]
  },
  {
   "cell_type": "code",
   "execution_count": 66,
   "metadata": {
    "id": "AkkhS5QayNaV"
   },
   "outputs": [],
   "source": [
    "#decision tree\n",
    "from sklearn.tree import DecisionTreeRegressor"
   ]
  },
  {
   "cell_type": "code",
   "execution_count": 67,
   "metadata": {
    "id": "J-YkhNntyNR3"
   },
   "outputs": [],
   "source": [
    "dt = DecisionTreeRegressor()"
   ]
  },
  {
   "cell_type": "code",
   "execution_count": 68,
   "metadata": {
    "colab": {
     "base_uri": "https://localhost:8080/",
     "height": 75
    },
    "id": "-51_cBV7yNF5",
    "outputId": "8b4ed9db-e456-4b32-f78b-5697c4dbb80e"
   },
   "outputs": [
    {
     "data": {
      "text/plain": [
       "DecisionTreeRegressor()"
      ]
     },
     "execution_count": 68,
     "metadata": {},
     "output_type": "execute_result"
    }
   ],
   "source": [
    "dt.fit(X_train, y_train)"
   ]
  },
  {
   "cell_type": "code",
   "execution_count": 69,
   "metadata": {
    "colab": {
     "base_uri": "https://localhost:8080/"
    },
    "id": "0fhRhRnizYx9",
    "outputId": "baa14a54-0bcc-47c4-dc7d-629e5310d319"
   },
   "outputs": [
    {
     "data": {
      "text/plain": [
       "0.7687760339492784"
      ]
     },
     "execution_count": 69,
     "metadata": {},
     "output_type": "execute_result"
    }
   ],
   "source": [
    "#prediction \n",
    "prediction = dt.predict(X_test)\n",
    "\n",
    "dt.score(X_test, y_test)"
   ]
  },
  {
   "cell_type": "code",
   "execution_count": 71,
   "metadata": {
    "colab": {
     "base_uri": "https://localhost:8080/",
     "height": 204
    },
    "id": "LQ07fbLRzmbx",
    "outputId": "c3620749-53f3-4fba-bf74-595258a0783c"
   },
   "outputs": [
    {
     "name": "stdout",
     "output_type": "stream",
     "text": [
      "Collecting xgboost\n",
      "  Using cached xgboost-1.7.5-py3-none-win_amd64.whl (70.9 MB)\n",
      "Requirement already satisfied: numpy in c:\\users\\sadman\\anaconda3\\lib\\site-packages (from xgboost) (1.21.5)\n",
      "Requirement already satisfied: scipy in c:\\users\\sadman\\anaconda3\\lib\\site-packages (from xgboost) (1.9.1)\n",
      "Installing collected packages: xgboost\n",
      "Successfully installed xgboost-1.7.5\n",
      "Fitting 5 folds for each of 9 candidates, totalling 45 fits\n",
      "[20:29:33] WARNING: C:\\buildkite-agent\\builds\\buildkite-windows-cpu-autoscaling-group-i-07593ffd91cd9da33-1\\xgboost\\xgboost-ci-windows\\src\\objective\\regression_obj.cu:213: reg:linear is now deprecated in favor of reg:squarederror.\n",
      "[20:29:33] WARNING: C:\\buildkite-agent\\builds\\buildkite-windows-cpu-autoscaling-group-i-07593ffd91cd9da33-1\\xgboost\\xgboost-ci-windows\\src\\learner.cc:767: \n",
      "Parameters: { \"silent\" } are not used.\n",
      "\n"
     ]
    },
    {
     "data": {
      "text/plain": [
       "GridSearchCV(cv=5,\n",
       "             estimator=XGBRegressor(base_score=None, booster=None,\n",
       "                                    callbacks=None, colsample_bylevel=None,\n",
       "                                    colsample_bynode=None,\n",
       "                                    colsample_bytree=None,\n",
       "                                    early_stopping_rounds=None,\n",
       "                                    enable_categorical=False, eval_metric=None,\n",
       "                                    feature_types=None, gamma=None, gpu_id=None,\n",
       "                                    grow_policy=None, importance_type=None,\n",
       "                                    interaction_constraints=None,\n",
       "                                    learning_rate=None, m...\n",
       "                                    min_child_weight=None, missing=nan,\n",
       "                                    monotone_constraints=None, n_estimators=100,\n",
       "                                    n_jobs=None, num_parallel_tree=None,\n",
       "                                    predictor=None, random_state=None, ...),\n",
       "             n_jobs=5,\n",
       "             param_grid={'colsample_bytree': [0.7],\n",
       "                         'learning_rate': [0.03, 0.05, 0.07],\n",
       "                         'max_depth': [5, 6, 7], 'min_child_weight': [4],\n",
       "                         'n_estimators': [500], 'nthread': [4],\n",
       "                         'objective': ['reg:linear'], 'silent': [1],\n",
       "                         'subsample': [0.7]},\n",
       "             verbose=True)"
      ]
     },
     "execution_count": 71,
     "metadata": {},
     "output_type": "execute_result"
    }
   ],
   "source": [
    "#tuning hyperparameters\n",
    "!pip install xgboost\n",
    "from sklearn.model_selection import GridSearchCV\n",
    "from xgboost import XGBRegressor\n",
    "\n",
    "xgb1 = XGBRegressor()\n",
    "parameters = {'nthread':[4], \n",
    "              'objective':['reg:linear'],\n",
    "              'learning_rate': [.03, 0.05, .07],\n",
    "              'max_depth': [5, 6, 7],\n",
    "              'min_child_weight': [4],\n",
    "              'silent': [1],\n",
    "              'subsample': [0.7],\n",
    "              'colsample_bytree': [0.7],\n",
    "              'n_estimators': [500]}\n",
    "\n",
    "xgb_grid = GridSearchCV(xgb1,\n",
    "                        parameters,\n",
    "                        cv = 5,\n",
    "                        n_jobs = 5,\n",
    "                        verbose=True)\n",
    "\n",
    "xgb_grid.fit(X_train,\n",
    "         y_train)"
   ]
  },
  {
   "cell_type": "code",
   "execution_count": 78,
   "metadata": {
    "colab": {
     "base_uri": "https://localhost:8080/"
    },
    "id": "v5B4FdU505P7",
    "outputId": "e1e1a1ef-d8b6-49bb-c1a4-53b441983d50"
   },
   "outputs": [
    {
     "name": "stdout",
     "output_type": "stream",
     "text": [
      "MAE: 500881.1577185806\n",
      "MSE: 1183080848159.12\n",
      "R2 Score: -1.0993283475710403\n"
     ]
    }
   ],
   "source": [
    "predictions = xgb_grid.predict(X_test)\n",
    "\n",
    "mae, mse, r_squared = evaluation(y_test, predictions)\n",
    "\n",
    "print(\"MAE:\", mae)\n",
    "print(\"MSE:\", mse)\n",
    "print(\"R2 Score:\", r_squared)\n",
    "\n",
    "\n",
    "new_row = {\"Model\": \"XgBoost\",\"MAE\": mae, \"MSE\": mse, \"R2 Score\": r_squared}\n",
    "models = models.append(new_row, ignore_index=True)"
   ]
  },
  {
   "cell_type": "markdown",
   "metadata": {
    "id": "FvRKRBdUwwm_"
   },
   "source": [
    "# Problem 9\n"
   ]
  },
  {
   "cell_type": "code",
   "execution_count": 76,
   "metadata": {
    "colab": {
     "base_uri": "https://localhost:8080/",
     "height": 49
    },
    "id": "x7XQ0iMJuQAu",
    "outputId": "97281792-0e92-4ba0-a235-40c4d69f7b8a"
   },
   "outputs": [
    {
     "data": {
      "text/html": [
       "<div>\n",
       "<style scoped>\n",
       "    .dataframe tbody tr th:only-of-type {\n",
       "        vertical-align: middle;\n",
       "    }\n",
       "\n",
       "    .dataframe tbody tr th {\n",
       "        vertical-align: top;\n",
       "    }\n",
       "\n",
       "    .dataframe thead th {\n",
       "        text-align: right;\n",
       "    }\n",
       "</style>\n",
       "<table border=\"1\" class=\"dataframe\">\n",
       "  <thead>\n",
       "    <tr style=\"text-align: right;\">\n",
       "      <th></th>\n",
       "      <th>Model</th>\n",
       "      <th>MAE</th>\n",
       "      <th>MSE</th>\n",
       "      <th>R2 Score</th>\n",
       "      <th>RMSE (Cross-Validation)</th>\n",
       "    </tr>\n",
       "  </thead>\n",
       "  <tbody>\n",
       "  </tbody>\n",
       "</table>\n",
       "</div>"
      ],
      "text/plain": [
       "Empty DataFrame\n",
       "Columns: [Model, MAE, MSE, R2 Score, RMSE (Cross-Validation)]\n",
       "Index: []"
      ]
     },
     "execution_count": 76,
     "metadata": {},
     "output_type": "execute_result"
    }
   ],
   "source": [
    "def evaluation (y, predictions):\n",
    "    mae = mean_absolute_error(y, predictions)\n",
    "    mse = mean_squared_error(y, predictions)\n",
    "    r_squared = r2_score(y, predictions)\n",
    "    return mae, mse, r_squared\n",
    "\n",
    "def rmse_cv(model):\n",
    "    rmse = np.sqrt(-cross_val_score(model, X, y, scoring=\"neg_mean_squared_error\", cv=5)).mean()\n",
    "    return rmse\n",
    "\n",
    "models = pd.DataFrame(columns=[\"Model\",\"MAE\",\"MSE\",\"R2 Score\",\"RMSE (Cross-Validation)\"])\n",
    "models"
   ]
  },
  {
   "cell_type": "code",
   "execution_count": 77,
   "metadata": {
    "colab": {
     "base_uri": "https://localhost:8080/"
    },
    "id": "qebxLylKxBBU",
    "outputId": "abaaf8d9-008b-4b4e-f186-9f22426396d0"
   },
   "outputs": [
    {
     "name": "stdout",
     "output_type": "stream",
     "text": [
      "MAE: 85245.0\n",
      "MSE: 130306746053.57143\n",
      "R2 Score: 0.7687760339492784\n"
     ]
    }
   ],
   "source": [
    "mae,mse,r_squared = evaluation(y_test, prediction)\n",
    "\n",
    "print(\"MAE:\", mae)\n",
    "print(\"MSE:\", mse)\n",
    "print(\"R2 Score:\", r_squared)\n",
    "\n",
    "\n",
    "new_row = {\"Model\": \"LinearRegression\",\"MAE\": mae, \"MSE\": mse, \"R2 Score\": r_squared}\n",
    "models = models.append(new_row, ignore_index=True)"
   ]
  },
  {
   "cell_type": "markdown",
   "metadata": {
    "id": "y1tcMM95xvoO"
   },
   "source": [
    "# Problem 10\n"
   ]
  },
  {
   "cell_type": "code",
   "execution_count": 79,
   "metadata": {
    "id": "aWh8r-CyxItM"
   },
   "outputs": [],
   "source": [
    "import pandas as pd\n",
    "\n",
    "import xgboost\n",
    "from sklearn.ensemble import RandomForestClassifier, VotingClassifier, BaggingClassifier, AdaBoostClassifier, GradientBoostingClassifier\n",
    "from sklearn.linear_model import LogisticRegression\n",
    "from sklearn.tree import DecisionTreeClassifier\n",
    "from sklearn.svm import SVC\n",
    "\n",
    "from sklearn.metrics import accuracy_score\n",
    "from sklearn.model_selection import train_test_split\n",
    "from sklearn.preprocessing import StandardScaler, OneHotEncoder, LabelEncoder"
   ]
  },
  {
   "cell_type": "code",
   "execution_count": 81,
   "metadata": {
    "id": "xPNleXQTx2Ft"
   },
   "outputs": [
    {
     "data": {
      "text/html": [
       "<div>\n",
       "<style scoped>\n",
       "    .dataframe tbody tr th:only-of-type {\n",
       "        vertical-align: middle;\n",
       "    }\n",
       "\n",
       "    .dataframe tbody tr th {\n",
       "        vertical-align: top;\n",
       "    }\n",
       "\n",
       "    .dataframe thead th {\n",
       "        text-align: right;\n",
       "    }\n",
       "</style>\n",
       "<table border=\"1\" class=\"dataframe\">\n",
       "  <thead>\n",
       "    <tr style=\"text-align: right;\">\n",
       "      <th></th>\n",
       "      <th>experience_level</th>\n",
       "      <th>employment_type</th>\n",
       "      <th>salary</th>\n",
       "      <th>salary_in_usd</th>\n",
       "      <th>remote_ratio</th>\n",
       "      <th>work_year_2021e</th>\n",
       "      <th>job_title_BI Data Analyst</th>\n",
       "      <th>job_title_Big Data Engineer</th>\n",
       "      <th>job_title_Business Data Analyst</th>\n",
       "      <th>job_title_Computer Vision Engineer</th>\n",
       "      <th>...</th>\n",
       "      <th>company_location_PT</th>\n",
       "      <th>company_location_RU</th>\n",
       "      <th>company_location_SG</th>\n",
       "      <th>company_location_SI</th>\n",
       "      <th>company_location_TR</th>\n",
       "      <th>company_location_UA</th>\n",
       "      <th>company_location_US</th>\n",
       "      <th>company_location_VN</th>\n",
       "      <th>company_size_M</th>\n",
       "      <th>company_size_S</th>\n",
       "    </tr>\n",
       "  </thead>\n",
       "  <tbody>\n",
       "    <tr>\n",
       "      <th>0</th>\n",
       "      <td>2</td>\n",
       "      <td>0</td>\n",
       "      <td>54000</td>\n",
       "      <td>64369</td>\n",
       "      <td>50</td>\n",
       "      <td>1</td>\n",
       "      <td>0</td>\n",
       "      <td>0</td>\n",
       "      <td>0</td>\n",
       "      <td>0</td>\n",
       "      <td>...</td>\n",
       "      <td>0</td>\n",
       "      <td>0</td>\n",
       "      <td>0</td>\n",
       "      <td>0</td>\n",
       "      <td>0</td>\n",
       "      <td>0</td>\n",
       "      <td>0</td>\n",
       "      <td>0</td>\n",
       "      <td>0</td>\n",
       "      <td>0</td>\n",
       "    </tr>\n",
       "    <tr>\n",
       "      <th>1</th>\n",
       "      <td>1</td>\n",
       "      <td>0</td>\n",
       "      <td>60000</td>\n",
       "      <td>68428</td>\n",
       "      <td>100</td>\n",
       "      <td>0</td>\n",
       "      <td>0</td>\n",
       "      <td>0</td>\n",
       "      <td>0</td>\n",
       "      <td>0</td>\n",
       "      <td>...</td>\n",
       "      <td>0</td>\n",
       "      <td>0</td>\n",
       "      <td>0</td>\n",
       "      <td>0</td>\n",
       "      <td>0</td>\n",
       "      <td>0</td>\n",
       "      <td>1</td>\n",
       "      <td>0</td>\n",
       "      <td>0</td>\n",
       "      <td>0</td>\n",
       "    </tr>\n",
       "    <tr>\n",
       "      <th>2</th>\n",
       "      <td>3</td>\n",
       "      <td>0</td>\n",
       "      <td>85000</td>\n",
       "      <td>85000</td>\n",
       "      <td>0</td>\n",
       "      <td>1</td>\n",
       "      <td>0</td>\n",
       "      <td>0</td>\n",
       "      <td>0</td>\n",
       "      <td>0</td>\n",
       "      <td>...</td>\n",
       "      <td>0</td>\n",
       "      <td>1</td>\n",
       "      <td>0</td>\n",
       "      <td>0</td>\n",
       "      <td>0</td>\n",
       "      <td>0</td>\n",
       "      <td>0</td>\n",
       "      <td>0</td>\n",
       "      <td>1</td>\n",
       "      <td>0</td>\n",
       "    </tr>\n",
       "    <tr>\n",
       "      <th>3</th>\n",
       "      <td>3</td>\n",
       "      <td>0</td>\n",
       "      <td>230000</td>\n",
       "      <td>230000</td>\n",
       "      <td>50</td>\n",
       "      <td>1</td>\n",
       "      <td>0</td>\n",
       "      <td>0</td>\n",
       "      <td>0</td>\n",
       "      <td>0</td>\n",
       "      <td>...</td>\n",
       "      <td>0</td>\n",
       "      <td>1</td>\n",
       "      <td>0</td>\n",
       "      <td>0</td>\n",
       "      <td>0</td>\n",
       "      <td>0</td>\n",
       "      <td>0</td>\n",
       "      <td>0</td>\n",
       "      <td>0</td>\n",
       "      <td>0</td>\n",
       "    </tr>\n",
       "    <tr>\n",
       "      <th>4</th>\n",
       "      <td>2</td>\n",
       "      <td>0</td>\n",
       "      <td>125000</td>\n",
       "      <td>125000</td>\n",
       "      <td>100</td>\n",
       "      <td>1</td>\n",
       "      <td>0</td>\n",
       "      <td>0</td>\n",
       "      <td>0</td>\n",
       "      <td>0</td>\n",
       "      <td>...</td>\n",
       "      <td>0</td>\n",
       "      <td>0</td>\n",
       "      <td>0</td>\n",
       "      <td>0</td>\n",
       "      <td>0</td>\n",
       "      <td>0</td>\n",
       "      <td>1</td>\n",
       "      <td>0</td>\n",
       "      <td>0</td>\n",
       "      <td>1</td>\n",
       "    </tr>\n",
       "  </tbody>\n",
       "</table>\n",
       "<p>5 rows × 127 columns</p>\n",
       "</div>"
      ],
      "text/plain": [
       "   experience_level  employment_type  salary  salary_in_usd  remote_ratio  \\\n",
       "0                 2                0   54000          64369            50   \n",
       "1                 1                0   60000          68428           100   \n",
       "2                 3                0   85000          85000             0   \n",
       "3                 3                0  230000         230000            50   \n",
       "4                 2                0  125000         125000           100   \n",
       "\n",
       "   work_year_2021e  job_title_BI Data Analyst  job_title_Big Data Engineer  \\\n",
       "0                1                          0                            0   \n",
       "1                0                          0                            0   \n",
       "2                1                          0                            0   \n",
       "3                1                          0                            0   \n",
       "4                1                          0                            0   \n",
       "\n",
       "   job_title_Business Data Analyst  job_title_Computer Vision Engineer  ...  \\\n",
       "0                                0                                   0  ...   \n",
       "1                                0                                   0  ...   \n",
       "2                                0                                   0  ...   \n",
       "3                                0                                   0  ...   \n",
       "4                                0                                   0  ...   \n",
       "\n",
       "   company_location_PT  company_location_RU  company_location_SG  \\\n",
       "0                    0                    0                    0   \n",
       "1                    0                    0                    0   \n",
       "2                    0                    1                    0   \n",
       "3                    0                    1                    0   \n",
       "4                    0                    0                    0   \n",
       "\n",
       "   company_location_SI  company_location_TR  company_location_UA  \\\n",
       "0                    0                    0                    0   \n",
       "1                    0                    0                    0   \n",
       "2                    0                    0                    0   \n",
       "3                    0                    0                    0   \n",
       "4                    0                    0                    0   \n",
       "\n",
       "   company_location_US  company_location_VN  company_size_M  company_size_S  \n",
       "0                    0                    0               0               0  \n",
       "1                    1                    0               0               0  \n",
       "2                    0                    0               1               0  \n",
       "3                    0                    0               0               0  \n",
       "4                    1                    0               0               1  \n",
       "\n",
       "[5 rows x 127 columns]"
      ]
     },
     "execution_count": 81,
     "metadata": {},
     "output_type": "execute_result"
    }
   ],
   "source": [
    "data.head()"
   ]
  },
  {
   "cell_type": "code",
   "execution_count": 82,
   "metadata": {
    "id": "v1VWnf-ux19o"
   },
   "outputs": [],
   "source": [
    "X_train,X_test,y_train,y_test = train_test_split(X,y,test_size=0.2,random_state=42)"
   ]
  },
  {
   "cell_type": "markdown",
   "metadata": {},
   "source": [
    "# Voting Classifier"
   ]
  },
  {
   "cell_type": "code",
   "execution_count": 84,
   "metadata": {
    "id": "nU15nsFUx1zU"
   },
   "outputs": [],
   "source": [
    "log_clf = LogisticRegression()\n",
    "rnd_clf = RandomForestClassifier()\n",
    "svm_clf = SVC()\n",
    "voting_clf = VotingClassifier(\n",
    "    estimators=[('lr', log_clf), ('rf', rnd_clf), ('svc', svm_clf)],\n",
    "    voting='hard'\n",
    ")"
   ]
  },
  {
   "cell_type": "code",
   "execution_count": 85,
   "metadata": {
    "id": "L1U6lRO5x1fm"
   },
   "outputs": [
    {
     "name": "stdout",
     "output_type": "stream",
     "text": [
      "LogisticRegression 0.0\n",
      "RandomForestClassifier 0.04081632653061224\n",
      "SVC 0.02040816326530612\n",
      "VotingClassifier 0.04081632653061224\n"
     ]
    }
   ],
   "source": [
    "for clf in (log_clf, rnd_clf, svm_clf, voting_clf):\n",
    "    clf.fit(X_train, y_train)\n",
    "    y_pred = clf.predict(X_test)\n",
    "    print(clf.__class__.__name__, accuracy_score(y_test, y_pred))"
   ]
  },
  {
   "cell_type": "markdown",
   "metadata": {},
   "source": [
    "# Bagging and Pasting"
   ]
  },
  {
   "cell_type": "code",
   "execution_count": 86,
   "metadata": {},
   "outputs": [
    {
     "data": {
      "text/plain": [
       "BaggingClassifier(base_estimator=DecisionTreeClassifier(), max_samples=100,\n",
       "                  n_estimators=500, n_jobs=-1, oob_score=True)"
      ]
     },
     "execution_count": 86,
     "metadata": {},
     "output_type": "execute_result"
    }
   ],
   "source": [
    "bag_clf = BaggingClassifier(\n",
    "    DecisionTreeClassifier(),\n",
    "    n_estimators=500,\n",
    "    max_samples=100,\n",
    "    bootstrap=True,\n",
    "    oob_score=True,\n",
    "    n_jobs=-1\n",
    ")\n",
    "bag_clf.fit(X_train, y_train)"
   ]
  },
  {
   "cell_type": "code",
   "execution_count": 87,
   "metadata": {},
   "outputs": [
    {
     "name": "stdout",
     "output_type": "stream",
     "text": [
      "Test Accuracy 0.22448979591836735\n",
      "Out of box error:  0.15306122448979592\n"
     ]
    }
   ],
   "source": [
    "y_pred = bag_clf.predict(X_test)\n",
    "print('Test Accuracy', accuracy_score(y_test, y_pred))\n",
    "print('Out of box error: ', bag_clf.oob_score_)"
   ]
  },
  {
   "cell_type": "markdown",
   "metadata": {},
   "source": [
    "# AdaBoost"
   ]
  },
  {
   "cell_type": "code",
   "execution_count": 88,
   "metadata": {},
   "outputs": [
    {
     "data": {
      "text/plain": [
       "0.02040816326530612"
      ]
     },
     "execution_count": 88,
     "metadata": {},
     "output_type": "execute_result"
    }
   ],
   "source": [
    "ada_clf = AdaBoostClassifier(DecisionTreeClassifier(max_depth=1), n_estimators=200, algorithm=\"SAMME.R\", learning_rate=0.5)\n",
    "ada_clf.fit(X_train, y_train)\n",
    "\n",
    "y_pred_ad = ada_clf.predict(X_test)\n",
    "accuracy_score(y_pred_ad, y_test)"
   ]
  },
  {
   "cell_type": "markdown",
   "metadata": {},
   "source": [
    "# Gradient Boosting"
   ]
  },
  {
   "cell_type": "code",
   "execution_count": 89,
   "metadata": {},
   "outputs": [
    {
     "data": {
      "text/plain": [
       "0.02040816326530612"
      ]
     },
     "execution_count": 89,
     "metadata": {},
     "output_type": "execute_result"
    }
   ],
   "source": [
    "gbrt = GradientBoostingClassifier(max_depth=2, n_estimators=3, learning_rate=1.0)\n",
    "gbrt.fit(X_train, y_train)\n",
    "\n",
    "y_pred_gbrt = ada_clf.predict(X_test)\n",
    "accuracy_score(y_pred_gbrt, y_test)"
   ]
  },
  {
   "cell_type": "markdown",
   "metadata": {},
   "source": [
    "# Random Forests"
   ]
  },
  {
   "cell_type": "code",
   "execution_count": 91,
   "metadata": {},
   "outputs": [
    {
     "data": {
      "text/plain": [
       "0.04081632653061224"
      ]
     },
     "execution_count": 91,
     "metadata": {},
     "output_type": "execute_result"
    }
   ],
   "source": [
    "rnd_clf = RandomForestClassifier(n_estimators=500, max_leaf_nodes=16, n_jobs=-1)\n",
    "rnd_clf.fit(X_train, y_train)\n",
    "\n",
    "y_pred_rf = rnd_clf.predict(X_test)\n",
    "accuracy_score(y_pred_rf, y_test)"
   ]
  },
  {
   "cell_type": "code",
   "execution_count": 93,
   "metadata": {},
   "outputs": [
    {
     "name": "stdout",
     "output_type": "stream",
     "text": [
      "experience_level 0.03695544134084361\n",
      "employment_type 0.023155015411073933\n",
      "salary 0.13610639302109895\n",
      "salary_in_usd 0.03345094406605934\n",
      "remote_ratio 0.0235343124557875\n",
      "work_year_2021e 0.006116883623332546\n",
      "job_title_BI Data Analyst 0.009092838257849416\n",
      "job_title_Big Data Engineer 0.006317793405048187\n",
      "job_title_Business Data Analyst 0.00440874091126749\n",
      "job_title_Computer Vision Engineer 0.01993496162097265\n",
      "job_title_Data Analyst 0.0067693448318709715\n",
      "job_title_Data Analytics Engineer 0.012096043600046083\n",
      "job_title_Data Analytics Manager 0.015188300771321833\n",
      "job_title_Data Engineer 0.006131863614230709\n",
      "job_title_Data Engineering Manager 0.008266781021306428\n",
      "job_title_Data Science Consultant 0.008898433090045432\n",
      "job_title_Data Science Manager 0.013608410787646272\n",
      "job_title_Data Scientist 0.0077522449236335665\n",
      "job_title_Director of Data Science 0.009209670125453958\n",
      "job_title_Lead Data Analyst 0.0071904997210764775\n",
      "job_title_Lead Data Engineer 0.006045540942473806\n",
      "job_title_ML Engineer 0.011097995937158274\n",
      "job_title_Machine Learning Engineer 0.011662108660164658\n",
      "job_title_Machine Learning Scientist 0.011373576019185606\n",
      "job_title_Other 0.008913462279621812\n",
      "job_title_Principal Data Scientist 0.00879139231729469\n",
      "job_title_Research Scientist 0.007636351543608992\n",
      "salary_currency_CAD 0.0035107009123536165\n",
      "salary_currency_CLP 0.0033481756738850408\n",
      "salary_currency_CNY 0.005087363012553024\n",
      "salary_currency_DKK 0.014706614208831473\n",
      "salary_currency_EUR 0.009980570462139503\n",
      "salary_currency_GBP 0.010213158255141698\n",
      "salary_currency_HUF 0.010689618244103633\n",
      "salary_currency_INR 0.004102768233280741\n",
      "salary_currency_JPY 0.002626906300570701\n",
      "salary_currency_MXN 0.003481984394454896\n",
      "salary_currency_PLN 0.004041117795884715\n",
      "salary_currency_SGD 0.0\n",
      "salary_currency_TRY 0.01399130319123871\n",
      "salary_currency_USD 0.004766653448830885\n",
      "employee_residence_AT 0.0026488585660338674\n",
      "employee_residence_BE 0.002483984133950678\n",
      "employee_residence_BG 0.006481287556462478\n",
      "employee_residence_BR 0.007258207292731275\n",
      "employee_residence_CA 0.0025876259432477374\n",
      "employee_residence_CL 0.0031871936035311687\n",
      "employee_residence_CN 0.002861687966947752\n",
      "employee_residence_CO 0.009777500566184585\n",
      "employee_residence_DE 0.004979278424250569\n",
      "employee_residence_DK 0.00933119998680756\n",
      "employee_residence_ES 0.012013376689760595\n",
      "employee_residence_FR 0.010564138095121594\n",
      "employee_residence_GB 0.00704483546266687\n",
      "employee_residence_GR 0.004922442866654715\n",
      "employee_residence_HK 0.005180306800773114\n",
      "employee_residence_HR 0.012222197906533876\n",
      "employee_residence_HU 0.00871544040231647\n",
      "employee_residence_IN 0.0025748163139835685\n",
      "employee_residence_IR 0.004752989091974637\n",
      "employee_residence_IT 0.003599919296851075\n",
      "employee_residence_JE 0.004820105037521667\n",
      "employee_residence_JP 0.0032135683656251144\n",
      "employee_residence_KE 0.0029646344845056824\n",
      "employee_residence_LU 0.0020976094476726766\n",
      "employee_residence_MD 0.002169719991008551\n",
      "employee_residence_MT 0.0031882295011482448\n",
      "employee_residence_MX 0.0022904397593852648\n",
      "employee_residence_NG 0.005273151554760843\n",
      "employee_residence_NL 0.0\n",
      "employee_residence_NZ 0.0\n",
      "employee_residence_PH 0.01305588467166865\n",
      "employee_residence_PK 0.006438842703531693\n",
      "employee_residence_PL 0.003169260993887515\n",
      "employee_residence_PR 0.006652213457617409\n",
      "employee_residence_PT 0.004106466439964447\n",
      "employee_residence_RO 0.005200154702073107\n",
      "employee_residence_RS 0.006127179197651587\n",
      "employee_residence_RU 0.0039130630881257416\n",
      "employee_residence_SG 0.0031280748010991824\n",
      "employee_residence_SI 0.0\n",
      "employee_residence_TR 0.003636738012602255\n",
      "employee_residence_UA 0.01665373005328906\n",
      "employee_residence_US 0.0026940084940946167\n",
      "employee_residence_VN 0.0\n",
      "company_location_AS 0.006000203914667215\n",
      "company_location_AT 0.00380435502149465\n",
      "company_location_BE 0.0031162822654310146\n",
      "company_location_BR 0.009634643772115346\n",
      "company_location_CA 0.003658689742327687\n",
      "company_location_CH 0.003090352026192947\n",
      "company_location_CL 0.0037561700586017884\n",
      "company_location_CN 0.003337508527481582\n",
      "company_location_CO 0.008337203072768385\n",
      "company_location_DE 0.006165921599709593\n",
      "company_location_DK 0.007456763949802887\n",
      "company_location_ES 0.014314843818558675\n",
      "company_location_FR 0.009775341910829601\n",
      "company_location_GB 0.0035125861347386727\n",
      "company_location_GR 0.003110603358554448\n",
      "company_location_HR 0.002088273829947627\n",
      "company_location_HU 0.0014617890321509633\n",
      "company_location_IL 0.008971237475731433\n",
      "company_location_IN 0.0015592932983444691\n",
      "company_location_IR 0.0\n",
      "company_location_IT 0.005139947014157596\n",
      "company_location_JP 0.00389215566841791\n",
      "company_location_KE 0.005581683559653077\n",
      "company_location_LU 0.00389700280649797\n",
      "company_location_MD 0.00250856105909894\n",
      "company_location_MT 0.0036569016440348616\n",
      "company_location_MX 0.002524679846228274\n",
      "company_location_NG 0.00876871827573777\n",
      "company_location_NL 0.0\n",
      "company_location_NZ 0.004454564504177255\n",
      "company_location_PK 0.0038827337876130978\n",
      "company_location_PL 0.0041511996649239435\n",
      "company_location_PT 0.003600441176066824\n",
      "company_location_RU 0.0037842487723691786\n",
      "company_location_SG 0.003339515542852492\n",
      "company_location_SI 0.0\n",
      "company_location_TR 0.003007266116576853\n",
      "company_location_UA 0.018317637982040665\n",
      "company_location_US 0.0029472327327203836\n",
      "company_location_VN 0.0199414890573092\n",
      "company_size_M 0.019219317823315502\n"
     ]
    }
   ],
   "source": [
    "for name, score in zip(data.columns, rnd_clf.feature_importances_):\n",
    "    print(name, score)"
   ]
  },
  {
   "cell_type": "code",
   "execution_count": null,
   "metadata": {},
   "outputs": [],
   "source": []
  }
 ],
 "metadata": {
  "colab": {
   "provenance": []
  },
  "kernelspec": {
   "display_name": "Python 3 (ipykernel)",
   "language": "python",
   "name": "python3"
  },
  "language_info": {
   "codemirror_mode": {
    "name": "ipython",
    "version": 3
   },
   "file_extension": ".py",
   "mimetype": "text/x-python",
   "name": "python",
   "nbconvert_exporter": "python",
   "pygments_lexer": "ipython3",
   "version": "3.9.13"
  }
 },
 "nbformat": 4,
 "nbformat_minor": 1
}
